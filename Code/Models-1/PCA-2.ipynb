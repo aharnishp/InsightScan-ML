{
 "cells": [
  {
   "cell_type": "code",
   "execution_count": 82,
   "metadata": {},
   "outputs": [],
   "source": [
    "import pandas as pd\n",
    "import numpy as np\n",
    "import matplotlib.pyplot as plt"
   ]
  },
  {
   "cell_type": "code",
   "execution_count": 83,
   "metadata": {},
   "outputs": [
    {
     "data": {
      "text/html": [
       "<div>\n",
       "<style scoped>\n",
       "    .dataframe tbody tr th:only-of-type {\n",
       "        vertical-align: middle;\n",
       "    }\n",
       "\n",
       "    .dataframe tbody tr th {\n",
       "        vertical-align: top;\n",
       "    }\n",
       "\n",
       "    .dataframe thead th {\n",
       "        text-align: right;\n",
       "    }\n",
       "</style>\n",
       "<table border=\"1\" class=\"dataframe\">\n",
       "  <thead>\n",
       "    <tr style=\"text-align: right;\">\n",
       "      <th></th>\n",
       "      <th>Class</th>\n",
       "      <th>sodium</th>\n",
       "      <th>extract</th>\n",
       "      <th>alcohol</th>\n",
       "      <th>water</th>\n",
       "      <th>glycerin</th>\n",
       "      <th>glycol</th>\n",
       "      <th>acid</th>\n",
       "      <th>dimethicone</th>\n",
       "      <th>fragrance</th>\n",
       "      <th>...</th>\n",
       "      <th>tomato</th>\n",
       "      <th>pyrus</th>\n",
       "      <th>tromethamine</th>\n",
       "      <th>hedera</th>\n",
       "      <th>helix</th>\n",
       "      <th>fillers</th>\n",
       "      <th>proprietary</th>\n",
       "      <th>microcapsules</th>\n",
       "      <th>https</th>\n",
       "      <th>pinterest</th>\n",
       "    </tr>\n",
       "  </thead>\n",
       "  <tbody>\n",
       "    <tr>\n",
       "      <th>0</th>\n",
       "      <td>0</td>\n",
       "      <td>0</td>\n",
       "      <td>0</td>\n",
       "      <td>0</td>\n",
       "      <td>0</td>\n",
       "      <td>0</td>\n",
       "      <td>0</td>\n",
       "      <td>0</td>\n",
       "      <td>0</td>\n",
       "      <td>0</td>\n",
       "      <td>...</td>\n",
       "      <td>0</td>\n",
       "      <td>0</td>\n",
       "      <td>0</td>\n",
       "      <td>0</td>\n",
       "      <td>0</td>\n",
       "      <td>0</td>\n",
       "      <td>0</td>\n",
       "      <td>0</td>\n",
       "      <td>0</td>\n",
       "      <td>0</td>\n",
       "    </tr>\n",
       "    <tr>\n",
       "      <th>1</th>\n",
       "      <td>0</td>\n",
       "      <td>0</td>\n",
       "      <td>0</td>\n",
       "      <td>0</td>\n",
       "      <td>0</td>\n",
       "      <td>0</td>\n",
       "      <td>0</td>\n",
       "      <td>0</td>\n",
       "      <td>0</td>\n",
       "      <td>0</td>\n",
       "      <td>...</td>\n",
       "      <td>0</td>\n",
       "      <td>0</td>\n",
       "      <td>0</td>\n",
       "      <td>0</td>\n",
       "      <td>0</td>\n",
       "      <td>0</td>\n",
       "      <td>0</td>\n",
       "      <td>0</td>\n",
       "      <td>0</td>\n",
       "      <td>0</td>\n",
       "    </tr>\n",
       "    <tr>\n",
       "      <th>2</th>\n",
       "      <td>0</td>\n",
       "      <td>0</td>\n",
       "      <td>1</td>\n",
       "      <td>0</td>\n",
       "      <td>0</td>\n",
       "      <td>0</td>\n",
       "      <td>0</td>\n",
       "      <td>0</td>\n",
       "      <td>0</td>\n",
       "      <td>0</td>\n",
       "      <td>...</td>\n",
       "      <td>0</td>\n",
       "      <td>0</td>\n",
       "      <td>0</td>\n",
       "      <td>0</td>\n",
       "      <td>0</td>\n",
       "      <td>0</td>\n",
       "      <td>0</td>\n",
       "      <td>0</td>\n",
       "      <td>0</td>\n",
       "      <td>0</td>\n",
       "    </tr>\n",
       "    <tr>\n",
       "      <th>3</th>\n",
       "      <td>0</td>\n",
       "      <td>0</td>\n",
       "      <td>0</td>\n",
       "      <td>0</td>\n",
       "      <td>1</td>\n",
       "      <td>0</td>\n",
       "      <td>0</td>\n",
       "      <td>0</td>\n",
       "      <td>0</td>\n",
       "      <td>0</td>\n",
       "      <td>...</td>\n",
       "      <td>0</td>\n",
       "      <td>0</td>\n",
       "      <td>0</td>\n",
       "      <td>0</td>\n",
       "      <td>0</td>\n",
       "      <td>0</td>\n",
       "      <td>0</td>\n",
       "      <td>0</td>\n",
       "      <td>0</td>\n",
       "      <td>0</td>\n",
       "    </tr>\n",
       "    <tr>\n",
       "      <th>4</th>\n",
       "      <td>1</td>\n",
       "      <td>1</td>\n",
       "      <td>0</td>\n",
       "      <td>0</td>\n",
       "      <td>1</td>\n",
       "      <td>1</td>\n",
       "      <td>1</td>\n",
       "      <td>0</td>\n",
       "      <td>1</td>\n",
       "      <td>1</td>\n",
       "      <td>...</td>\n",
       "      <td>0</td>\n",
       "      <td>0</td>\n",
       "      <td>0</td>\n",
       "      <td>0</td>\n",
       "      <td>0</td>\n",
       "      <td>0</td>\n",
       "      <td>0</td>\n",
       "      <td>0</td>\n",
       "      <td>0</td>\n",
       "      <td>0</td>\n",
       "    </tr>\n",
       "  </tbody>\n",
       "</table>\n",
       "<p>5 rows × 1673 columns</p>\n",
       "</div>"
      ],
      "text/plain": [
       "   Class  sodium  extract  alcohol  water  glycerin  glycol  acid  \\\n",
       "0      0       0        0        0      0         0       0     0   \n",
       "1      0       0        0        0      0         0       0     0   \n",
       "2      0       0        1        0      0         0       0     0   \n",
       "3      0       0        0        0      1         0       0     0   \n",
       "4      1       1        0        0      1         1       1     0   \n",
       "\n",
       "   dimethicone  fragrance  ...  tomato  pyrus  tromethamine  hedera  helix  \\\n",
       "0            0          0  ...       0      0             0       0      0   \n",
       "1            0          0  ...       0      0             0       0      0   \n",
       "2            0          0  ...       0      0             0       0      0   \n",
       "3            0          0  ...       0      0             0       0      0   \n",
       "4            1          1  ...       0      0             0       0      0   \n",
       "\n",
       "   fillers  proprietary  microcapsules  https  pinterest  \n",
       "0        0            0              0      0          0  \n",
       "1        0            0              0      0          0  \n",
       "2        0            0              0      0          0  \n",
       "3        0            0              0      0          0  \n",
       "4        0            0              0      0          0  \n",
       "\n",
       "[5 rows x 1673 columns]"
      ]
     },
     "execution_count": 83,
     "metadata": {},
     "output_type": "execute_result"
    }
   ],
   "source": [
    "df = pd.read_csv('../data/onehot.csv')\n",
    "\n",
    "df.drop('Name', axis=1, inplace=True)\n",
    "\n",
    "df = df.sample(frac=1).reset_index(drop=True)\n",
    "\n",
    "df.head()"
   ]
  },
  {
   "cell_type": "code",
   "execution_count": 84,
   "metadata": {},
   "outputs": [],
   "source": [
    "from sklearn.metrics import accuracy_score, confusion_matrix, classification_report\n",
    "from sklearn.model_selection import train_test_split\n",
    "from sklearn.svm import SVC"
   ]
  },
  {
   "cell_type": "code",
   "execution_count": 85,
   "metadata": {},
   "outputs": [],
   "source": [
    "X_train, X_test, y_train, y_test = train_test_split(df.drop('Class', axis=1), df['Class'], test_size=0.3, random_state=42)"
   ]
  },
  {
   "cell_type": "code",
   "execution_count": 86,
   "metadata": {},
   "outputs": [
    {
     "data": {
      "text/plain": [
       "(770, 1672)"
      ]
     },
     "execution_count": 86,
     "metadata": {},
     "output_type": "execute_result"
    }
   ],
   "source": [
    "X_train.shape"
   ]
  },
  {
   "cell_type": "code",
   "execution_count": 87,
   "metadata": {},
   "outputs": [],
   "source": [
    "svm = SVC(kernel='linear', C=1.0, random_state=47)\n",
    "svm.fit(X_train, y_train)\n",
    "\n",
    "y_pred = svm.predict(X_test)"
   ]
  },
  {
   "cell_type": "code",
   "execution_count": 88,
   "metadata": {},
   "outputs": [],
   "source": [
    "X_trainC, X_testC, y_trainC, y_testC= X_train, X_test, y_train, y_test"
   ]
  },
  {
   "attachments": {},
   "cell_type": "markdown",
   "metadata": {},
   "source": [
    "## SVM without PCA"
   ]
  },
  {
   "cell_type": "code",
   "execution_count": 89,
   "metadata": {},
   "outputs": [
    {
     "data": {
      "text/plain": [
       "0.9454545454545454"
      ]
     },
     "execution_count": 89,
     "metadata": {},
     "output_type": "execute_result"
    }
   ],
   "source": [
    "accuracy_score(y_test, y_pred)"
   ]
  },
  {
   "cell_type": "code",
   "execution_count": 90,
   "metadata": {},
   "outputs": [
    {
     "name": "stdout",
     "output_type": "stream",
     "text": [
      "              precision    recall  f1-score   support\n",
      "\n",
      "           0       0.91      0.99      0.95       163\n",
      "           1       0.99      0.90      0.94       167\n",
      "\n",
      "    accuracy                           0.95       330\n",
      "   macro avg       0.95      0.95      0.95       330\n",
      "weighted avg       0.95      0.95      0.95       330\n",
      "\n"
     ]
    }
   ],
   "source": [
    "print(classification_report(y_test, y_pred))"
   ]
  },
  {
   "cell_type": "code",
   "execution_count": 91,
   "metadata": {},
   "outputs": [],
   "source": [
    "from sklearn.preprocessing import StandardScaler\n",
    "scalar = StandardScaler()"
   ]
  },
  {
   "cell_type": "code",
   "execution_count": 92,
   "metadata": {},
   "outputs": [],
   "source": [
    "X_train = scalar.fit_transform(X_train)\n",
    "X_test = scalar.transform(X_test)"
   ]
  },
  {
   "attachments": {},
   "cell_type": "markdown",
   "metadata": {},
   "source": [
    "## SVM with PCA"
   ]
  },
  {
   "cell_type": "code",
   "execution_count": 93,
   "metadata": {},
   "outputs": [],
   "source": [
    "#PCA\n",
    "from sklearn.decomposition import PCA\n",
    "pca = PCA(n_components=None)"
   ]
  },
  {
   "cell_type": "code",
   "execution_count": 94,
   "metadata": {},
   "outputs": [
    {
     "name": "stdout",
     "output_type": "stream",
     "text": [
      "PCA()\n"
     ]
    }
   ],
   "source": [
    "# print the PCA components\n",
    "print(pca.fit(X_train))"
   ]
  },
  {
   "cell_type": "code",
   "execution_count": 95,
   "metadata": {},
   "outputs": [
    {
     "name": "stdout",
     "output_type": "stream",
     "text": [
      "(770, 1672)\n",
      "[[ 2.65166343e-02  2.56355836e-02  1.57376489e-02 ...  6.65511920e-04\n",
      "  -6.19468131e-04 -6.19468131e-04]\n",
      " [ 6.55001051e-02  4.67997815e-02  7.89936759e-02 ...  5.91084789e-03\n",
      "  -1.07096051e-03 -1.07096051e-03]\n",
      " [-1.99358967e-03 -3.61187167e-04  8.12864257e-04 ... -5.17531118e-04\n",
      "  -4.34785931e-04 -4.34785931e-04]\n",
      " ...\n",
      " [-5.70809625e-16 -2.72666402e-17 -1.38492363e-16 ...  1.16891057e-02\n",
      "  -8.61054234e-04  6.09579298e-03]\n",
      " [ 3.75218049e-16  6.89841746e-17  1.15723338e-15 ...  1.20684293e-02\n",
      "  -5.34077838e-03  3.41475519e-03]\n",
      " [-2.65534018e-16  1.49354456e-16 -6.15901057e-16 ...  7.09067476e-04\n",
      "   2.68207768e-03  3.47960550e-03]]\n"
     ]
    }
   ],
   "source": [
    "# print the PCA transformation matrix\n",
    "print(pca.components_.shape)\n",
    "print(pca.components_)"
   ]
  },
  {
   "cell_type": "code",
   "execution_count": 96,
   "metadata": {},
   "outputs": [
    {
     "name": "stdout",
     "output_type": "stream",
     "text": [
      "(770, 1672)\n",
      "(770, 770)\n"
     ]
    }
   ],
   "source": [
    "# print the shape of the data before and after PCA\n",
    "print(X_train.shape)\n",
    "X_train = pca.fit_transform(X_train)\n",
    "X_test = pca.transform(X_test)\n",
    "print(X_train.shape)"
   ]
  },
  {
   "cell_type": "code",
   "execution_count": 97,
   "metadata": {},
   "outputs": [],
   "source": [
    "X_train = pca.fit_transform(X_train)\n",
    "X_test = pca.transform(X_test)"
   ]
  },
  {
   "cell_type": "code",
   "execution_count": 98,
   "metadata": {},
   "outputs": [
    {
     "data": {
      "text/html": [
       "<style>#sk-container-id-5 {color: black;background-color: white;}#sk-container-id-5 pre{padding: 0;}#sk-container-id-5 div.sk-toggleable {background-color: white;}#sk-container-id-5 label.sk-toggleable__label {cursor: pointer;display: block;width: 100%;margin-bottom: 0;padding: 0.3em;box-sizing: border-box;text-align: center;}#sk-container-id-5 label.sk-toggleable__label-arrow:before {content: \"▸\";float: left;margin-right: 0.25em;color: #696969;}#sk-container-id-5 label.sk-toggleable__label-arrow:hover:before {color: black;}#sk-container-id-5 div.sk-estimator:hover label.sk-toggleable__label-arrow:before {color: black;}#sk-container-id-5 div.sk-toggleable__content {max-height: 0;max-width: 0;overflow: hidden;text-align: left;background-color: #f0f8ff;}#sk-container-id-5 div.sk-toggleable__content pre {margin: 0.2em;color: black;border-radius: 0.25em;background-color: #f0f8ff;}#sk-container-id-5 input.sk-toggleable__control:checked~div.sk-toggleable__content {max-height: 200px;max-width: 100%;overflow: auto;}#sk-container-id-5 input.sk-toggleable__control:checked~label.sk-toggleable__label-arrow:before {content: \"▾\";}#sk-container-id-5 div.sk-estimator input.sk-toggleable__control:checked~label.sk-toggleable__label {background-color: #d4ebff;}#sk-container-id-5 div.sk-label input.sk-toggleable__control:checked~label.sk-toggleable__label {background-color: #d4ebff;}#sk-container-id-5 input.sk-hidden--visually {border: 0;clip: rect(1px 1px 1px 1px);clip: rect(1px, 1px, 1px, 1px);height: 1px;margin: -1px;overflow: hidden;padding: 0;position: absolute;width: 1px;}#sk-container-id-5 div.sk-estimator {font-family: monospace;background-color: #f0f8ff;border: 1px dotted black;border-radius: 0.25em;box-sizing: border-box;margin-bottom: 0.5em;}#sk-container-id-5 div.sk-estimator:hover {background-color: #d4ebff;}#sk-container-id-5 div.sk-parallel-item::after {content: \"\";width: 100%;border-bottom: 1px solid gray;flex-grow: 1;}#sk-container-id-5 div.sk-label:hover label.sk-toggleable__label {background-color: #d4ebff;}#sk-container-id-5 div.sk-serial::before {content: \"\";position: absolute;border-left: 1px solid gray;box-sizing: border-box;top: 0;bottom: 0;left: 50%;z-index: 0;}#sk-container-id-5 div.sk-serial {display: flex;flex-direction: column;align-items: center;background-color: white;padding-right: 0.2em;padding-left: 0.2em;position: relative;}#sk-container-id-5 div.sk-item {position: relative;z-index: 1;}#sk-container-id-5 div.sk-parallel {display: flex;align-items: stretch;justify-content: center;background-color: white;position: relative;}#sk-container-id-5 div.sk-item::before, #sk-container-id-5 div.sk-parallel-item::before {content: \"\";position: absolute;border-left: 1px solid gray;box-sizing: border-box;top: 0;bottom: 0;left: 50%;z-index: -1;}#sk-container-id-5 div.sk-parallel-item {display: flex;flex-direction: column;z-index: 1;position: relative;background-color: white;}#sk-container-id-5 div.sk-parallel-item:first-child::after {align-self: flex-end;width: 50%;}#sk-container-id-5 div.sk-parallel-item:last-child::after {align-self: flex-start;width: 50%;}#sk-container-id-5 div.sk-parallel-item:only-child::after {width: 0;}#sk-container-id-5 div.sk-dashed-wrapped {border: 1px dashed gray;margin: 0 0.4em 0.5em 0.4em;box-sizing: border-box;padding-bottom: 0.4em;background-color: white;}#sk-container-id-5 div.sk-label label {font-family: monospace;font-weight: bold;display: inline-block;line-height: 1.2em;}#sk-container-id-5 div.sk-label-container {text-align: center;}#sk-container-id-5 div.sk-container {/* jupyter's `normalize.less` sets `[hidden] { display: none; }` but bootstrap.min.css set `[hidden] { display: none !important; }` so we also need the `!important` here to be able to override the default hidden behavior on the sphinx rendered scikit-learn.org. See: https://github.com/scikit-learn/scikit-learn/issues/21755 */display: inline-block !important;position: relative;}#sk-container-id-5 div.sk-text-repr-fallback {display: none;}</style><div id=\"sk-container-id-5\" class=\"sk-top-container\"><div class=\"sk-text-repr-fallback\"><pre>SVC(kernel=&#x27;linear&#x27;, random_state=47)</pre><b>In a Jupyter environment, please rerun this cell to show the HTML representation or trust the notebook. <br />On GitHub, the HTML representation is unable to render, please try loading this page with nbviewer.org.</b></div><div class=\"sk-container\" hidden><div class=\"sk-item\"><div class=\"sk-estimator sk-toggleable\"><input class=\"sk-toggleable__control sk-hidden--visually\" id=\"sk-estimator-id-5\" type=\"checkbox\" checked><label for=\"sk-estimator-id-5\" class=\"sk-toggleable__label sk-toggleable__label-arrow\">SVC</label><div class=\"sk-toggleable__content\"><pre>SVC(kernel=&#x27;linear&#x27;, random_state=47)</pre></div></div></div></div></div>"
      ],
      "text/plain": [
       "SVC(kernel='linear', random_state=47)"
      ]
     },
     "execution_count": 98,
     "metadata": {},
     "output_type": "execute_result"
    }
   ],
   "source": [
    "svm = SVC(kernel='linear', C=1.0, random_state=47)\n",
    "svm.fit(X_train, y_train)"
   ]
  },
  {
   "cell_type": "code",
   "execution_count": 99,
   "metadata": {},
   "outputs": [
    {
     "data": {
      "text/plain": [
       "0.9151515151515152"
      ]
     },
     "execution_count": 99,
     "metadata": {},
     "output_type": "execute_result"
    }
   ],
   "source": [
    "y_pred = svm.predict(X_test)\n",
    "\n",
    "accuracy_score(y_test, y_pred)"
   ]
  },
  {
   "cell_type": "code",
   "execution_count": 100,
   "metadata": {},
   "outputs": [
    {
     "data": {
      "text/plain": [
       "array([2.72328363e-02, 1.99242664e-02, 1.79125666e-02, 1.76200673e-02,\n",
       "       1.68628323e-02, 1.48965175e-02, 1.42386093e-02, 1.20075519e-02,\n",
       "       1.11665797e-02, 1.08285307e-02, 1.02274047e-02, 9.97954688e-03,\n",
       "       9.76348446e-03, 9.19013573e-03, 8.98552367e-03, 8.90393441e-03,\n",
       "       8.73656942e-03, 8.57641336e-03, 8.01632097e-03, 7.86421592e-03,\n",
       "       7.74739494e-03, 7.58098084e-03, 7.32103376e-03, 7.31716970e-03,\n",
       "       7.24868111e-03, 7.07115396e-03, 6.86749772e-03, 6.79959000e-03,\n",
       "       6.62554066e-03, 6.54431373e-03, 6.45310461e-03, 6.26680558e-03,\n",
       "       6.17973595e-03, 6.15402433e-03, 6.03144341e-03, 5.86803428e-03,\n",
       "       5.77325868e-03, 5.72443094e-03, 5.62519114e-03, 5.42817515e-03,\n",
       "       5.35614801e-03, 5.26483631e-03, 5.19636176e-03, 5.09256635e-03,\n",
       "       5.01013597e-03, 4.91560037e-03, 4.88961152e-03, 4.80126079e-03,\n",
       "       4.71506992e-03, 4.67101592e-03, 4.65714423e-03, 4.53270535e-03,\n",
       "       4.48032203e-03, 4.41996899e-03, 4.39375766e-03, 4.28294516e-03,\n",
       "       4.24837522e-03, 4.19334124e-03, 4.12489865e-03, 4.09676591e-03,\n",
       "       4.06528030e-03, 4.02746918e-03, 3.93742850e-03, 3.85809878e-03,\n",
       "       3.81296957e-03, 3.78660577e-03, 3.75371683e-03, 3.72849824e-03,\n",
       "       3.72324393e-03, 3.67938211e-03, 3.67161100e-03, 3.61922872e-03,\n",
       "       3.60205671e-03, 3.57705549e-03, 3.55876260e-03, 3.55069104e-03,\n",
       "       3.48752972e-03, 3.48351537e-03, 3.44203202e-03, 3.40784194e-03,\n",
       "       3.34854047e-03, 3.31729816e-03, 3.29087642e-03, 3.26902503e-03,\n",
       "       3.23072971e-03, 3.19955549e-03, 3.17445968e-03, 3.13537729e-03,\n",
       "       3.09295893e-03, 3.06405297e-03, 3.03357345e-03, 2.97723735e-03,\n",
       "       2.95761462e-03, 2.93693083e-03, 2.91168993e-03, 2.87153232e-03,\n",
       "       2.84374046e-03, 2.83170020e-03, 2.81765537e-03, 2.79353447e-03,\n",
       "       2.73239819e-03, 2.69589751e-03, 2.67643633e-03, 2.66861773e-03,\n",
       "       2.64680387e-03, 2.61889853e-03, 2.60433076e-03, 2.56124843e-03,\n",
       "       2.55273345e-03, 2.51798931e-03, 2.50214948e-03, 2.48200903e-03,\n",
       "       2.46665699e-03, 2.46303212e-03, 2.45117420e-03, 2.43319188e-03,\n",
       "       2.42254605e-03, 2.39222118e-03, 2.38380014e-03, 2.36071554e-03,\n",
       "       2.35451469e-03, 2.34972841e-03, 2.33456420e-03, 2.29769954e-03,\n",
       "       2.29078758e-03, 2.28552926e-03, 2.26373422e-03, 2.23982081e-03,\n",
       "       2.23187513e-03, 2.22175425e-03, 2.21469260e-03, 2.19089254e-03,\n",
       "       2.18251275e-03, 2.17412947e-03, 2.15059444e-03, 2.13659602e-03,\n",
       "       2.11565150e-03, 2.09956004e-03, 2.07066228e-03, 2.04642743e-03,\n",
       "       2.04289413e-03, 2.02610321e-03, 2.01413602e-03, 1.99994198e-03,\n",
       "       1.99239320e-03, 1.95996313e-03, 1.94830501e-03, 1.94138442e-03,\n",
       "       1.92686339e-03, 1.92035857e-03, 1.91290228e-03, 1.90665618e-03,\n",
       "       1.87436194e-03, 1.86508238e-03, 1.84595116e-03, 1.82776608e-03,\n",
       "       1.82412450e-03, 1.80469023e-03, 1.79675153e-03, 1.78321541e-03,\n",
       "       1.75142491e-03, 1.74269164e-03, 1.73856883e-03, 1.72909374e-03,\n",
       "       1.70745305e-03, 1.69925125e-03, 1.68883801e-03, 1.68104418e-03,\n",
       "       1.67416952e-03, 1.66141810e-03, 1.65435463e-03, 1.63822994e-03,\n",
       "       1.63528343e-03, 1.62758233e-03, 1.61266266e-03, 1.60904679e-03,\n",
       "       1.59847971e-03, 1.58683559e-03, 1.57877464e-03, 1.57278555e-03,\n",
       "       1.56354269e-03, 1.55226054e-03, 1.54126708e-03, 1.53466812e-03,\n",
       "       1.52266102e-03, 1.51285999e-03, 1.49949247e-03, 1.48966889e-03,\n",
       "       1.48934720e-03, 1.47866676e-03, 1.47178975e-03, 1.46435987e-03,\n",
       "       1.45824047e-03, 1.44962906e-03, 1.44482608e-03, 1.43440244e-03,\n",
       "       1.43030735e-03, 1.42194331e-03, 1.41343567e-03, 1.41040194e-03,\n",
       "       1.40133418e-03, 1.39400130e-03, 1.38915496e-03, 1.38159830e-03,\n",
       "       1.37434541e-03, 1.36304356e-03, 1.36006615e-03, 1.34653524e-03,\n",
       "       1.33953936e-03, 1.32992656e-03, 1.32305877e-03, 1.31774138e-03,\n",
       "       1.31446992e-03, 1.30489081e-03, 1.30011450e-03, 1.29439225e-03,\n",
       "       1.28941801e-03, 1.28026452e-03, 1.26713692e-03, 1.26453474e-03,\n",
       "       1.25362387e-03, 1.24745102e-03, 1.23679131e-03, 1.23091361e-03,\n",
       "       1.22575638e-03, 1.21561554e-03, 1.20794174e-03, 1.20501932e-03,\n",
       "       1.20222515e-03, 1.18810338e-03, 1.18012944e-03, 1.17546778e-03,\n",
       "       1.16640933e-03, 1.15831902e-03, 1.14414818e-03, 1.13959998e-03,\n",
       "       1.13231670e-03, 1.12823234e-03, 1.12717558e-03, 1.10744927e-03,\n",
       "       1.10327233e-03, 1.09771316e-03, 1.09060497e-03, 1.08654383e-03,\n",
       "       1.07944811e-03, 1.06969921e-03, 1.06458977e-03, 1.06049042e-03,\n",
       "       1.05493043e-03, 1.04715037e-03, 1.04455562e-03, 1.03439113e-03,\n",
       "       1.02770492e-03, 1.02237847e-03, 1.01607365e-03, 1.00659661e-03,\n",
       "       1.00227031e-03, 9.96665602e-04, 9.94181872e-04, 9.91617771e-04,\n",
       "       9.89510457e-04, 9.74765813e-04, 9.71029637e-04, 9.61612910e-04,\n",
       "       9.60000057e-04, 9.58094676e-04, 9.52841160e-04, 9.47109540e-04,\n",
       "       9.41966224e-04, 9.35106991e-04, 9.27647653e-04, 9.23144600e-04,\n",
       "       9.16361980e-04, 9.07069561e-04, 9.02433944e-04, 9.00179335e-04,\n",
       "       8.98660915e-04, 8.91815349e-04, 8.86570132e-04, 8.81707739e-04,\n",
       "       8.76877513e-04, 8.73952979e-04, 8.66918760e-04, 8.63046727e-04,\n",
       "       8.56777602e-04, 8.54618489e-04, 8.45897729e-04, 8.41069724e-04,\n",
       "       8.36834851e-04, 8.31900489e-04, 8.29534056e-04, 8.21361972e-04,\n",
       "       8.17714384e-04, 8.08770338e-04, 8.07517616e-04, 8.06464048e-04,\n",
       "       8.01772792e-04, 7.94828230e-04, 7.94128524e-04, 7.90301278e-04,\n",
       "       7.84379963e-04, 7.79330822e-04, 7.75733806e-04, 7.71992332e-04,\n",
       "       7.64896670e-04, 7.59862752e-04, 7.55241225e-04, 7.52517290e-04,\n",
       "       7.48069393e-04, 7.43831000e-04, 7.37817528e-04, 7.36544248e-04,\n",
       "       7.30988595e-04, 7.27135093e-04, 7.23305950e-04, 7.15713364e-04,\n",
       "       7.12930594e-04, 7.10229977e-04, 7.07801036e-04, 7.05845713e-04,\n",
       "       6.98143582e-04, 6.92808452e-04, 6.91849233e-04, 6.90076759e-04,\n",
       "       6.83460431e-04, 6.74195013e-04, 6.71999578e-04, 6.68668413e-04,\n",
       "       6.66641259e-04, 6.60007589e-04, 6.58397312e-04, 6.55538065e-04,\n",
       "       6.45945102e-04, 6.41175595e-04, 6.36866307e-04, 6.36172428e-04,\n",
       "       6.32172850e-04, 6.29763277e-04, 6.20999480e-04, 6.11883341e-04,\n",
       "       6.07433221e-04, 6.03404878e-04, 5.99840892e-04, 5.96613667e-04,\n",
       "       5.93067450e-04, 5.84267616e-04, 5.81607719e-04, 5.74733197e-04,\n",
       "       5.71287246e-04, 5.64009801e-04, 5.62202492e-04, 5.57396209e-04,\n",
       "       5.50200498e-04, 5.48111105e-04, 5.40850728e-04, 5.35503791e-04,\n",
       "       5.33168233e-04, 5.32019442e-04, 5.28073459e-04, 5.23618459e-04,\n",
       "       5.15686574e-04, 5.11730537e-04, 5.10747911e-04, 5.04584892e-04,\n",
       "       4.98155943e-04, 4.95891016e-04, 4.91605354e-04, 4.84073422e-04,\n",
       "       4.80127115e-04, 4.75377884e-04, 4.73762359e-04, 4.67271395e-04,\n",
       "       4.66615400e-04, 4.65129768e-04, 4.55077024e-04, 4.53736473e-04,\n",
       "       4.51175858e-04, 4.47250593e-04, 4.41735081e-04, 4.38655785e-04,\n",
       "       4.33064245e-04, 4.24666686e-04, 4.21771737e-04, 4.20632665e-04,\n",
       "       4.17462756e-04, 4.11861949e-04, 4.07510937e-04, 4.04102331e-04,\n",
       "       4.02623533e-04, 4.00604429e-04, 3.96315728e-04, 3.95372636e-04,\n",
       "       3.90704973e-04, 3.82942443e-04, 3.79506680e-04, 3.77162089e-04,\n",
       "       3.74347784e-04, 3.73404928e-04, 3.69182470e-04, 3.66901580e-04,\n",
       "       3.63432035e-04, 3.61714671e-04, 3.59422505e-04, 3.55708980e-04,\n",
       "       3.52843525e-04, 3.50718477e-04, 3.46915631e-04, 3.43836495e-04,\n",
       "       3.38304838e-04, 3.37584764e-04, 3.36680970e-04, 3.28308251e-04,\n",
       "       3.26343263e-04, 3.21272760e-04, 3.18271978e-04, 3.15964229e-04,\n",
       "       3.15003040e-04, 3.09542770e-04, 3.07932666e-04, 3.01643164e-04,\n",
       "       3.01368672e-04, 2.98103782e-04, 2.95917208e-04, 2.94669237e-04,\n",
       "       2.91328085e-04, 2.86300090e-04, 2.85648306e-04, 2.81002563e-04,\n",
       "       2.79889934e-04, 2.76449666e-04, 2.72725669e-04, 2.68833345e-04,\n",
       "       2.67438788e-04, 2.65759673e-04, 2.62412837e-04, 2.60829695e-04,\n",
       "       2.55253571e-04, 2.52476449e-04, 2.51202829e-04, 2.49766169e-04,\n",
       "       2.46678556e-04, 2.45288094e-04, 2.41819994e-04, 2.39587990e-04,\n",
       "       2.36027788e-04, 2.34688527e-04, 2.30043800e-04, 2.29528798e-04,\n",
       "       2.28727514e-04, 2.23827895e-04, 2.20845575e-04, 2.17857088e-04,\n",
       "       2.17290631e-04, 2.14188016e-04, 2.12276222e-04, 2.07359581e-04,\n",
       "       2.05372110e-04, 2.04133686e-04, 2.03723005e-04, 2.00761525e-04,\n",
       "       1.98205392e-04, 1.94520763e-04, 1.93784587e-04, 1.92398165e-04,\n",
       "       1.89972859e-04, 1.84458955e-04, 1.83295893e-04, 1.82989014e-04,\n",
       "       1.81052730e-04, 1.79290402e-04, 1.78289391e-04, 1.74932077e-04,\n",
       "       1.73115934e-04, 1.70659725e-04, 1.69090161e-04, 1.67246786e-04,\n",
       "       1.65175393e-04, 1.62315615e-04, 1.60839734e-04, 1.56610725e-04,\n",
       "       1.55944547e-04, 1.55009374e-04, 1.52581775e-04, 1.50952936e-04,\n",
       "       1.49056681e-04, 1.46060949e-04, 1.44493188e-04, 1.42974761e-04,\n",
       "       1.42638945e-04, 1.39670940e-04, 1.38065513e-04, 1.36691196e-04,\n",
       "       1.36025182e-04, 1.34893954e-04, 1.33133760e-04, 1.31589091e-04,\n",
       "       1.28235357e-04, 1.26490069e-04, 1.25715804e-04, 1.25093350e-04,\n",
       "       1.23697667e-04, 1.20300593e-04, 1.18398589e-04, 1.16775034e-04,\n",
       "       1.16140270e-04, 1.14750431e-04, 1.13447033e-04, 1.12281210e-04,\n",
       "       1.11368134e-04, 1.08536378e-04, 1.07233212e-04, 1.05640622e-04,\n",
       "       1.04698760e-04, 1.02908655e-04, 1.00423333e-04, 1.00163642e-04,\n",
       "       9.90377225e-05, 9.74232119e-05, 9.51647567e-05, 9.48003813e-05,\n",
       "       9.30030245e-05, 9.10225917e-05, 8.99514221e-05, 8.88286990e-05,\n",
       "       8.74088368e-05, 8.62362705e-05, 8.37045916e-05, 8.14028604e-05,\n",
       "       8.05615293e-05, 7.86555294e-05, 7.82041360e-05, 7.73743681e-05,\n",
       "       7.53268741e-05, 7.47853171e-05, 7.38534157e-05, 7.30838250e-05,\n",
       "       7.00856308e-05, 6.87732024e-05, 6.72184951e-05, 6.67481597e-05,\n",
       "       6.56319741e-05, 6.46068503e-05, 6.38859761e-05, 6.12027420e-05,\n",
       "       6.03635071e-05, 5.93458940e-05, 5.77346505e-05, 5.72164227e-05,\n",
       "       5.60109152e-05, 5.53356876e-05, 5.34023192e-05, 5.17625966e-05,\n",
       "       5.17011176e-05, 5.00428476e-05, 4.96832640e-05, 4.82447597e-05,\n",
       "       4.69340486e-05, 4.65805717e-05, 4.50907142e-05, 4.42664336e-05,\n",
       "       4.35359870e-05, 4.26766210e-05, 4.16308098e-05, 4.08007482e-05,\n",
       "       3.94909545e-05, 3.81993963e-05, 3.73417899e-05, 3.66048091e-05,\n",
       "       3.55401554e-05, 3.51478601e-05, 3.40536905e-05, 3.30590634e-05,\n",
       "       3.26105380e-05, 3.14865062e-05, 3.02098084e-05, 2.97523506e-05,\n",
       "       2.89665641e-05, 2.83338835e-05, 2.73157200e-05, 2.61242032e-05,\n",
       "       2.54241325e-05, 2.51590642e-05, 2.45257642e-05, 2.40427581e-05,\n",
       "       2.31337925e-05, 2.24433271e-05, 2.20329887e-05, 2.09938915e-05,\n",
       "       2.03610386e-05, 2.00339966e-05, 1.87854899e-05, 1.82837176e-05,\n",
       "       1.71606306e-05, 1.69700961e-05, 1.63351246e-05, 1.58409760e-05,\n",
       "       1.53219916e-05, 1.48998670e-05, 1.39812048e-05, 1.34085322e-05,\n",
       "       1.25711801e-05, 1.21109545e-05, 1.20817362e-05, 1.13543219e-05,\n",
       "       1.08278496e-05, 1.06425211e-05, 1.03007890e-05, 9.96557639e-06,\n",
       "       9.18907767e-06, 8.42126670e-06, 7.80093631e-06, 7.68860422e-06,\n",
       "       7.18786700e-06, 6.94796778e-06, 6.68240095e-06, 6.56180900e-06,\n",
       "       5.64198346e-06, 5.35530605e-06, 4.89797970e-06, 4.71351105e-06,\n",
       "       4.42135574e-06, 4.14226914e-06, 3.83142353e-06, 3.69899084e-06,\n",
       "       3.00770137e-06, 2.82812335e-06, 2.36132778e-06, 2.14170688e-06,\n",
       "       1.86228269e-06, 1.72539854e-06, 1.57321787e-06, 1.30449296e-06,\n",
       "       1.06247655e-06, 8.21703928e-07, 6.83453516e-07, 5.44658614e-07,\n",
       "       4.51945131e-07, 1.94740763e-07, 5.37072998e-33, 3.41933952e-34,\n",
       "       2.71893205e-34, 2.71893205e-34, 2.71893205e-34, 2.71893205e-34,\n",
       "       2.71893205e-34, 2.71893205e-34, 2.71893205e-34, 2.71893205e-34,\n",
       "       2.71893205e-34, 2.71893205e-34, 2.71893205e-34, 2.71893205e-34,\n",
       "       2.71893205e-34, 2.71893205e-34, 2.71893205e-34, 2.71893205e-34,\n",
       "       2.71893205e-34, 2.71893205e-34, 2.71893205e-34, 2.71893205e-34,\n",
       "       2.71893205e-34, 2.71893205e-34, 2.71893205e-34, 2.71893205e-34,\n",
       "       2.71893205e-34, 2.71893205e-34, 2.71893205e-34, 2.71893205e-34,\n",
       "       2.71893205e-34, 2.71893205e-34, 2.71893205e-34, 2.71893205e-34,\n",
       "       2.71893205e-34, 2.71893205e-34, 2.71893205e-34, 2.71893205e-34,\n",
       "       2.71893205e-34, 2.71893205e-34, 2.71893205e-34, 2.71893205e-34,\n",
       "       2.71893205e-34, 2.71893205e-34, 2.71893205e-34, 2.71893205e-34,\n",
       "       2.71893205e-34, 2.71893205e-34, 2.71893205e-34, 2.71893205e-34,\n",
       "       2.71893205e-34, 2.71893205e-34, 2.71893205e-34, 2.71893205e-34,\n",
       "       2.71893205e-34, 2.71893205e-34, 2.71893205e-34, 2.71893205e-34,\n",
       "       2.71893205e-34, 2.71893205e-34, 2.71893205e-34, 2.71893205e-34,\n",
       "       2.71893205e-34, 2.71893205e-34, 2.71893205e-34, 2.71893205e-34,\n",
       "       2.71893205e-34, 2.71893205e-34, 2.71893205e-34, 2.71893205e-34,\n",
       "       2.71893205e-34, 2.71893205e-34, 2.71893205e-34, 2.71893205e-34,\n",
       "       2.71893205e-34, 2.71893205e-34, 2.71893205e-34, 2.71893205e-34,\n",
       "       2.71893205e-34, 2.71893205e-34, 2.71893205e-34, 2.71893205e-34,\n",
       "       2.71893205e-34, 2.71893205e-34, 2.71893205e-34, 2.71893205e-34,\n",
       "       2.71893205e-34, 2.71893205e-34, 2.71893205e-34, 2.71893205e-34,\n",
       "       2.71893205e-34, 2.71893205e-34, 2.71893205e-34, 2.71893205e-34,\n",
       "       2.71893205e-34, 2.71893205e-34, 2.71893205e-34, 2.71893205e-34,\n",
       "       2.71893205e-34, 2.71893205e-34, 2.71893205e-34, 2.71893205e-34,\n",
       "       2.71893205e-34, 2.71893205e-34, 2.71893205e-34, 2.71893205e-34,\n",
       "       2.71893205e-34, 2.71893205e-34, 2.71893205e-34, 2.71893205e-34,\n",
       "       2.71893205e-34, 2.71893205e-34, 2.71893205e-34, 2.71893205e-34,\n",
       "       2.71893205e-34, 2.71893205e-34, 2.71893205e-34, 2.71893205e-34,\n",
       "       2.71893205e-34, 2.71893205e-34, 2.71893205e-34, 2.71893205e-34,\n",
       "       2.71893205e-34, 2.71893205e-34, 2.71893205e-34, 2.71893205e-34,\n",
       "       2.71893205e-34, 2.71893205e-34, 2.71893205e-34, 2.71893205e-34,\n",
       "       2.71893205e-34, 2.71893205e-34])"
      ]
     },
     "execution_count": 100,
     "metadata": {},
     "output_type": "execute_result"
    }
   ],
   "source": [
    "pca.explained_variance_ratio_"
   ]
  },
  {
   "cell_type": "code",
   "execution_count": 101,
   "metadata": {},
   "outputs": [
    {
     "data": {
      "text/plain": [
       "[<matplotlib.lines.Line2D at 0x7fd4f3595f00>]"
      ]
     },
     "execution_count": 101,
     "metadata": {},
     "output_type": "execute_result"
    },
    {
     "data": {
      "image/png": "[encoded data removed]",
      "text/plain": [
       "<Figure size 640x480 with 1 Axes>"
      ]
     },
     "metadata": {},
     "output_type": "display_data"
    }
   ],
   "source": [
    "plt.plot(np.cumsum(pca.explained_variance_ratio_))"
   ]
  },
  {
   "cell_type": "code",
   "execution_count": 102,
   "metadata": {},
   "outputs": [],
   "source": [
    "X_train, X_test, y_train, y_test = X_trainC, X_testC, y_trainC, y_testC"
   ]
  },
  {
   "attachments": {},
   "cell_type": "markdown",
   "metadata": {},
   "source": [
    "### Effect of number of components"
   ]
  },
  {
   "cell_type": "code",
   "execution_count": 108,
   "metadata": {},
   "outputs": [
    {
     "ename": "ValueError",
     "evalue": "n_components=771 must be between 0 and min(n_samples, n_features)=770 with svd_solver='full'",
     "output_type": "error",
     "traceback": [
      "\u001b[0;31m---------------------------------------------------------------------------\u001b[0m",
      "\u001b[0;31mValueError\u001b[0m                                Traceback (most recent call last)",
      "\u001b[1;32m/home/aharnish/Documents/AhmedabadUniversity/ml/InsightScan-ML/models/PCA-2.ipynb Cell 25\u001b[0m in \u001b[0;36m<cell line: 4>\u001b[0;34m()\u001b[0m\n\u001b[1;32m      <a href='vscode-notebook-cell:/home/aharnish/Documents/AhmedabadUniversity/ml/InsightScan-ML/models/PCA-2.ipynb#X30sZmlsZQ%3D%3D?line=4'>5</a>\u001b[0m X_train, X_test, y_train, y_test \u001b[39m=\u001b[39m X_trainC, X_testC, y_trainC, y_testC\n\u001b[1;32m      <a href='vscode-notebook-cell:/home/aharnish/Documents/AhmedabadUniversity/ml/InsightScan-ML/models/PCA-2.ipynb#X30sZmlsZQ%3D%3D?line=5'>6</a>\u001b[0m pca \u001b[39m=\u001b[39m PCA(n_components\u001b[39m=\u001b[39mnum_components)\n\u001b[0;32m----> <a href='vscode-notebook-cell:/home/aharnish/Documents/AhmedabadUniversity/ml/InsightScan-ML/models/PCA-2.ipynb#X30sZmlsZQ%3D%3D?line=6'>7</a>\u001b[0m X_train \u001b[39m=\u001b[39m pca\u001b[39m.\u001b[39;49mfit_transform(X_train)\n\u001b[1;32m      <a href='vscode-notebook-cell:/home/aharnish/Documents/AhmedabadUniversity/ml/InsightScan-ML/models/PCA-2.ipynb#X30sZmlsZQ%3D%3D?line=7'>8</a>\u001b[0m X_test \u001b[39m=\u001b[39m pca\u001b[39m.\u001b[39mtransform(X_test)\n\u001b[1;32m      <a href='vscode-notebook-cell:/home/aharnish/Documents/AhmedabadUniversity/ml/InsightScan-ML/models/PCA-2.ipynb#X30sZmlsZQ%3D%3D?line=8'>9</a>\u001b[0m svm \u001b[39m=\u001b[39m SVC(kernel\u001b[39m=\u001b[39m\u001b[39m'\u001b[39m\u001b[39mlinear\u001b[39m\u001b[39m'\u001b[39m, C\u001b[39m=\u001b[39m\u001b[39m1.0\u001b[39m, random_state\u001b[39m=\u001b[39m\u001b[39m0\u001b[39m)\n",
      "File \u001b[0;32m~/.local/lib/python3.10/site-packages/sklearn/decomposition/_pca.py:433\u001b[0m, in \u001b[0;36mPCA.fit_transform\u001b[0;34m(self, X, y)\u001b[0m\n\u001b[1;32m    411\u001b[0m \u001b[39mdef\u001b[39;00m \u001b[39mfit_transform\u001b[39m(\u001b[39mself\u001b[39m, X, y\u001b[39m=\u001b[39m\u001b[39mNone\u001b[39;00m):\n\u001b[1;32m    412\u001b[0m     \u001b[39m\"\"\"Fit the model with X and apply the dimensionality reduction on X.\u001b[39;00m\n\u001b[1;32m    413\u001b[0m \n\u001b[1;32m    414\u001b[0m \u001b[39m    Parameters\u001b[39;00m\n\u001b[0;32m   (...)\u001b[0m\n\u001b[1;32m    431\u001b[0m \u001b[39m    C-ordered array, use 'np.ascontiguousarray'.\u001b[39;00m\n\u001b[1;32m    432\u001b[0m \u001b[39m    \"\"\"\u001b[39;00m\n\u001b[0;32m--> 433\u001b[0m     U, S, Vt \u001b[39m=\u001b[39m \u001b[39mself\u001b[39;49m\u001b[39m.\u001b[39;49m_fit(X)\n\u001b[1;32m    434\u001b[0m     U \u001b[39m=\u001b[39m U[:, : \u001b[39mself\u001b[39m\u001b[39m.\u001b[39mn_components_]\n\u001b[1;32m    436\u001b[0m     \u001b[39mif\u001b[39;00m \u001b[39mself\u001b[39m\u001b[39m.\u001b[39mwhiten:\n\u001b[1;32m    437\u001b[0m         \u001b[39m# X_new = X * V / S * sqrt(n_samples) = U * sqrt(n_samples)\u001b[39;00m\n",
      "File \u001b[0;32m~/.local/lib/python3.10/site-packages/sklearn/decomposition/_pca.py:483\u001b[0m, in \u001b[0;36mPCA._fit\u001b[0;34m(self, X)\u001b[0m\n\u001b[1;32m    481\u001b[0m \u001b[39m# Call different fits for either full or truncated SVD\u001b[39;00m\n\u001b[1;32m    482\u001b[0m \u001b[39mif\u001b[39;00m \u001b[39mself\u001b[39m\u001b[39m.\u001b[39m_fit_svd_solver \u001b[39m==\u001b[39m \u001b[39m\"\u001b[39m\u001b[39mfull\u001b[39m\u001b[39m\"\u001b[39m:\n\u001b[0;32m--> 483\u001b[0m     \u001b[39mreturn\u001b[39;00m \u001b[39mself\u001b[39;49m\u001b[39m.\u001b[39;49m_fit_full(X, n_components)\n\u001b[1;32m    484\u001b[0m \u001b[39melif\u001b[39;00m \u001b[39mself\u001b[39m\u001b[39m.\u001b[39m_fit_svd_solver \u001b[39min\u001b[39;00m [\u001b[39m\"\u001b[39m\u001b[39marpack\u001b[39m\u001b[39m\"\u001b[39m, \u001b[39m\"\u001b[39m\u001b[39mrandomized\u001b[39m\u001b[39m\"\u001b[39m]:\n\u001b[1;32m    485\u001b[0m     \u001b[39mreturn\u001b[39;00m \u001b[39mself\u001b[39m\u001b[39m.\u001b[39m_fit_truncated(X, n_components, \u001b[39mself\u001b[39m\u001b[39m.\u001b[39m_fit_svd_solver)\n",
      "File \u001b[0;32m~/.local/lib/python3.10/site-packages/sklearn/decomposition/_pca.py:501\u001b[0m, in \u001b[0;36mPCA._fit_full\u001b[0;34m(self, X, n_components)\u001b[0m\n\u001b[1;32m    497\u001b[0m         \u001b[39mraise\u001b[39;00m \u001b[39mValueError\u001b[39;00m(\n\u001b[1;32m    498\u001b[0m             \u001b[39m\"\u001b[39m\u001b[39mn_components=\u001b[39m\u001b[39m'\u001b[39m\u001b[39mmle\u001b[39m\u001b[39m'\u001b[39m\u001b[39m is only supported if n_samples >= n_features\u001b[39m\u001b[39m\"\u001b[39m\n\u001b[1;32m    499\u001b[0m         )\n\u001b[1;32m    500\u001b[0m \u001b[39melif\u001b[39;00m \u001b[39mnot\u001b[39;00m \u001b[39m0\u001b[39m \u001b[39m<\u001b[39m\u001b[39m=\u001b[39m n_components \u001b[39m<\u001b[39m\u001b[39m=\u001b[39m \u001b[39mmin\u001b[39m(n_samples, n_features):\n\u001b[0;32m--> 501\u001b[0m     \u001b[39mraise\u001b[39;00m \u001b[39mValueError\u001b[39;00m(\n\u001b[1;32m    502\u001b[0m         \u001b[39m\"\u001b[39m\u001b[39mn_components=\u001b[39m\u001b[39m%r\u001b[39;00m\u001b[39m must be between 0 and \u001b[39m\u001b[39m\"\u001b[39m\n\u001b[1;32m    503\u001b[0m         \u001b[39m\"\u001b[39m\u001b[39mmin(n_samples, n_features)=\u001b[39m\u001b[39m%r\u001b[39;00m\u001b[39m with \u001b[39m\u001b[39m\"\u001b[39m\n\u001b[1;32m    504\u001b[0m         \u001b[39m\"\u001b[39m\u001b[39msvd_solver=\u001b[39m\u001b[39m'\u001b[39m\u001b[39mfull\u001b[39m\u001b[39m'\u001b[39m\u001b[39m\"\u001b[39m \u001b[39m%\u001b[39m (n_components, \u001b[39mmin\u001b[39m(n_samples, n_features))\n\u001b[1;32m    505\u001b[0m     )\n\u001b[1;32m    506\u001b[0m \u001b[39melif\u001b[39;00m n_components \u001b[39m>\u001b[39m\u001b[39m=\u001b[39m \u001b[39m1\u001b[39m:\n\u001b[1;32m    507\u001b[0m     \u001b[39mif\u001b[39;00m \u001b[39mnot\u001b[39;00m \u001b[39misinstance\u001b[39m(n_components, numbers\u001b[39m.\u001b[39mIntegral):\n",
      "\u001b[0;31mValueError\u001b[0m: n_components=771 must be between 0 and min(n_samples, n_features)=770 with svd_solver='full'"
     ]
    }
   ],
   "source": [
    "# plotting for number of components vs accuracy\n",
    "accuracies = []\n",
    "\n",
    "for num_components in range(1, 1000):\n",
    "    X_train, X_test, y_train, y_test = X_trainC, X_testC, y_trainC, y_testC\n",
    "    pca = PCA(n_components=num_components)\n",
    "    X_train = pca.fit_transform(X_train)\n",
    "    X_test = pca.transform(X_test)\n",
    "    svm = SVC(kernel='linear', C=1.0, random_state=0)\n",
    "    svm.fit(X_train, y_train)\n",
    "    y_pred = svm.predict(X_test)\n",
    "    accuracies.append(accuracy_score(y_test, y_pred))\n"
   ]
  },
  {
   "cell_type": "code",
   "execution_count": 107,
   "metadata": {},
   "outputs": [
    {
     "data": {
      "text/plain": [
       "[<matplotlib.lines.Line2D at 0x7fd4f343e3e0>]"
      ]
     },
     "execution_count": 107,
     "metadata": {},
     "output_type": "execute_result"
    },
    {
     "data": {
      "image/png": "[encoded data removed]",
      "text/plain": [
       "<Figure size 640x480 with 1 Axes>"
      ]
     },
     "metadata": {},
     "output_type": "display_data"
    }
   ],
   "source": [
    "# change color to purple\n",
    "plt.plot(range(1, 25), accuracies, color='purple')"
   ]
  },
  {
   "cell_type": "code",
   "execution_count": 106,
   "metadata": {},
   "outputs": [
    {
     "data": {
      "text/plain": [
       "array([1.48619613, 0.61427473, 0.40576596, 0.3581045 , 0.32281878,\n",
       "       0.26487931, 0.23108398, 0.21506946, 0.19976505, 0.17570005,\n",
       "       0.17195043, 0.1642068 , 0.1548568 , 0.15036435, 0.14968298,\n",
       "       0.13828645, 0.13482655, 0.13390612, 0.12745692, 0.12669842,\n",
       "       0.12207153, 0.12055291, 0.1174182 , 0.11540231])"
      ]
     },
     "execution_count": 106,
     "metadata": {},
     "output_type": "execute_result"
    }
   ],
   "source": [
    "pca.explained_variance_"
   ]
  },
  {
   "cell_type": "code",
   "execution_count": null,
   "metadata": {},
   "outputs": [],
   "source": []
  }
 ],
 "metadata": {
  "kernelspec": {
   "display_name": "Python 3",
   "language": "python",
   "name": "python3"
  },
  "language_info": {
   "codemirror_mode": {
    "name": "ipython",
    "version": 3
   },
   "file_extension": ".py",
   "mimetype": "text/x-python",
   "name": "python",
   "nbconvert_exporter": "python",
   "pygments_lexer": "ipython3",
   "version": "3.10.6"
  },
  "orig_nbformat": 4
 },
 "nbformat": 4,
 "nbformat_minor": 2
}
