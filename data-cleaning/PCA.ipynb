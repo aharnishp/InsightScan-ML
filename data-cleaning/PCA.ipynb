{
 "cells": [
  {
   "cell_type": "code",
   "execution_count": 147,
   "metadata": {},
   "outputs": [],
   "source": [
    "import pandas as pd\n",
    "import numpy as np\n",
    "import matplotlib.pyplot as plt"
   ]
  },
  {
   "cell_type": "code",
   "execution_count": 148,
   "metadata": {},
   "outputs": [
    {
     "data": {
      "text/html": [
       "<div>\n",
       "<style scoped>\n",
       "    .dataframe tbody tr th:only-of-type {\n",
       "        vertical-align: middle;\n",
       "    }\n",
       "\n",
       "    .dataframe tbody tr th {\n",
       "        vertical-align: top;\n",
       "    }\n",
       "\n",
       "    .dataframe thead th {\n",
       "        text-align: right;\n",
       "    }\n",
       "</style>\n",
       "<table border=\"1\" class=\"dataframe\">\n",
       "  <thead>\n",
       "    <tr style=\"text-align: right;\">\n",
       "      <th></th>\n",
       "      <th>Class</th>\n",
       "      <th>sodium</th>\n",
       "      <th>extract</th>\n",
       "      <th>alcohol</th>\n",
       "      <th>water</th>\n",
       "      <th>glycerin</th>\n",
       "      <th>glycol</th>\n",
       "      <th>acid</th>\n",
       "      <th>dimethicone</th>\n",
       "      <th>fragrance</th>\n",
       "      <th>...</th>\n",
       "      <th>tomato</th>\n",
       "      <th>pyrus</th>\n",
       "      <th>tromethamine</th>\n",
       "      <th>hedera</th>\n",
       "      <th>helix</th>\n",
       "      <th>fillers</th>\n",
       "      <th>proprietary</th>\n",
       "      <th>microcapsules</th>\n",
       "      <th>https</th>\n",
       "      <th>pinterest</th>\n",
       "    </tr>\n",
       "  </thead>\n",
       "  <tbody>\n",
       "    <tr>\n",
       "      <th>0</th>\n",
       "      <td>1</td>\n",
       "      <td>0</td>\n",
       "      <td>0</td>\n",
       "      <td>0</td>\n",
       "      <td>1</td>\n",
       "      <td>0</td>\n",
       "      <td>0</td>\n",
       "      <td>0</td>\n",
       "      <td>1</td>\n",
       "      <td>1</td>\n",
       "      <td>...</td>\n",
       "      <td>0</td>\n",
       "      <td>0</td>\n",
       "      <td>0</td>\n",
       "      <td>0</td>\n",
       "      <td>0</td>\n",
       "      <td>0</td>\n",
       "      <td>0</td>\n",
       "      <td>0</td>\n",
       "      <td>0</td>\n",
       "      <td>0</td>\n",
       "    </tr>\n",
       "    <tr>\n",
       "      <th>1</th>\n",
       "      <td>1</td>\n",
       "      <td>0</td>\n",
       "      <td>0</td>\n",
       "      <td>0</td>\n",
       "      <td>1</td>\n",
       "      <td>1</td>\n",
       "      <td>0</td>\n",
       "      <td>0</td>\n",
       "      <td>1</td>\n",
       "      <td>0</td>\n",
       "      <td>...</td>\n",
       "      <td>0</td>\n",
       "      <td>0</td>\n",
       "      <td>0</td>\n",
       "      <td>0</td>\n",
       "      <td>0</td>\n",
       "      <td>0</td>\n",
       "      <td>0</td>\n",
       "      <td>0</td>\n",
       "      <td>0</td>\n",
       "      <td>0</td>\n",
       "    </tr>\n",
       "    <tr>\n",
       "      <th>2</th>\n",
       "      <td>1</td>\n",
       "      <td>0</td>\n",
       "      <td>0</td>\n",
       "      <td>0</td>\n",
       "      <td>1</td>\n",
       "      <td>1</td>\n",
       "      <td>0</td>\n",
       "      <td>0</td>\n",
       "      <td>0</td>\n",
       "      <td>1</td>\n",
       "      <td>...</td>\n",
       "      <td>0</td>\n",
       "      <td>0</td>\n",
       "      <td>0</td>\n",
       "      <td>0</td>\n",
       "      <td>0</td>\n",
       "      <td>0</td>\n",
       "      <td>0</td>\n",
       "      <td>0</td>\n",
       "      <td>0</td>\n",
       "      <td>0</td>\n",
       "    </tr>\n",
       "    <tr>\n",
       "      <th>3</th>\n",
       "      <td>0</td>\n",
       "      <td>0</td>\n",
       "      <td>0</td>\n",
       "      <td>0</td>\n",
       "      <td>0</td>\n",
       "      <td>0</td>\n",
       "      <td>0</td>\n",
       "      <td>0</td>\n",
       "      <td>0</td>\n",
       "      <td>0</td>\n",
       "      <td>...</td>\n",
       "      <td>0</td>\n",
       "      <td>0</td>\n",
       "      <td>0</td>\n",
       "      <td>0</td>\n",
       "      <td>0</td>\n",
       "      <td>0</td>\n",
       "      <td>0</td>\n",
       "      <td>0</td>\n",
       "      <td>0</td>\n",
       "      <td>0</td>\n",
       "    </tr>\n",
       "    <tr>\n",
       "      <th>4</th>\n",
       "      <td>1</td>\n",
       "      <td>0</td>\n",
       "      <td>0</td>\n",
       "      <td>0</td>\n",
       "      <td>1</td>\n",
       "      <td>1</td>\n",
       "      <td>0</td>\n",
       "      <td>0</td>\n",
       "      <td>0</td>\n",
       "      <td>0</td>\n",
       "      <td>...</td>\n",
       "      <td>0</td>\n",
       "      <td>0</td>\n",
       "      <td>0</td>\n",
       "      <td>0</td>\n",
       "      <td>0</td>\n",
       "      <td>0</td>\n",
       "      <td>0</td>\n",
       "      <td>0</td>\n",
       "      <td>0</td>\n",
       "      <td>0</td>\n",
       "    </tr>\n",
       "    <tr>\n",
       "      <th>...</th>\n",
       "      <td>...</td>\n",
       "      <td>...</td>\n",
       "      <td>...</td>\n",
       "      <td>...</td>\n",
       "      <td>...</td>\n",
       "      <td>...</td>\n",
       "      <td>...</td>\n",
       "      <td>...</td>\n",
       "      <td>...</td>\n",
       "      <td>...</td>\n",
       "      <td>...</td>\n",
       "      <td>...</td>\n",
       "      <td>...</td>\n",
       "      <td>...</td>\n",
       "      <td>...</td>\n",
       "      <td>...</td>\n",
       "      <td>...</td>\n",
       "      <td>...</td>\n",
       "      <td>...</td>\n",
       "      <td>...</td>\n",
       "      <td>...</td>\n",
       "    </tr>\n",
       "    <tr>\n",
       "      <th>1095</th>\n",
       "      <td>0</td>\n",
       "      <td>0</td>\n",
       "      <td>0</td>\n",
       "      <td>0</td>\n",
       "      <td>0</td>\n",
       "      <td>0</td>\n",
       "      <td>0</td>\n",
       "      <td>0</td>\n",
       "      <td>0</td>\n",
       "      <td>0</td>\n",
       "      <td>...</td>\n",
       "      <td>0</td>\n",
       "      <td>0</td>\n",
       "      <td>0</td>\n",
       "      <td>0</td>\n",
       "      <td>0</td>\n",
       "      <td>0</td>\n",
       "      <td>0</td>\n",
       "      <td>0</td>\n",
       "      <td>0</td>\n",
       "      <td>0</td>\n",
       "    </tr>\n",
       "    <tr>\n",
       "      <th>1096</th>\n",
       "      <td>1</td>\n",
       "      <td>0</td>\n",
       "      <td>0</td>\n",
       "      <td>0</td>\n",
       "      <td>1</td>\n",
       "      <td>1</td>\n",
       "      <td>0</td>\n",
       "      <td>0</td>\n",
       "      <td>0</td>\n",
       "      <td>1</td>\n",
       "      <td>...</td>\n",
       "      <td>0</td>\n",
       "      <td>0</td>\n",
       "      <td>0</td>\n",
       "      <td>0</td>\n",
       "      <td>0</td>\n",
       "      <td>0</td>\n",
       "      <td>0</td>\n",
       "      <td>0</td>\n",
       "      <td>0</td>\n",
       "      <td>0</td>\n",
       "    </tr>\n",
       "    <tr>\n",
       "      <th>1097</th>\n",
       "      <td>1</td>\n",
       "      <td>0</td>\n",
       "      <td>0</td>\n",
       "      <td>0</td>\n",
       "      <td>1</td>\n",
       "      <td>1</td>\n",
       "      <td>0</td>\n",
       "      <td>0</td>\n",
       "      <td>1</td>\n",
       "      <td>1</td>\n",
       "      <td>...</td>\n",
       "      <td>0</td>\n",
       "      <td>0</td>\n",
       "      <td>0</td>\n",
       "      <td>0</td>\n",
       "      <td>0</td>\n",
       "      <td>0</td>\n",
       "      <td>0</td>\n",
       "      <td>0</td>\n",
       "      <td>0</td>\n",
       "      <td>0</td>\n",
       "    </tr>\n",
       "    <tr>\n",
       "      <th>1098</th>\n",
       "      <td>0</td>\n",
       "      <td>0</td>\n",
       "      <td>0</td>\n",
       "      <td>0</td>\n",
       "      <td>0</td>\n",
       "      <td>0</td>\n",
       "      <td>0</td>\n",
       "      <td>0</td>\n",
       "      <td>0</td>\n",
       "      <td>0</td>\n",
       "      <td>...</td>\n",
       "      <td>0</td>\n",
       "      <td>0</td>\n",
       "      <td>0</td>\n",
       "      <td>0</td>\n",
       "      <td>0</td>\n",
       "      <td>0</td>\n",
       "      <td>0</td>\n",
       "      <td>0</td>\n",
       "      <td>0</td>\n",
       "      <td>0</td>\n",
       "    </tr>\n",
       "    <tr>\n",
       "      <th>1099</th>\n",
       "      <td>0</td>\n",
       "      <td>0</td>\n",
       "      <td>0</td>\n",
       "      <td>0</td>\n",
       "      <td>0</td>\n",
       "      <td>0</td>\n",
       "      <td>0</td>\n",
       "      <td>0</td>\n",
       "      <td>0</td>\n",
       "      <td>0</td>\n",
       "      <td>...</td>\n",
       "      <td>1</td>\n",
       "      <td>0</td>\n",
       "      <td>0</td>\n",
       "      <td>0</td>\n",
       "      <td>0</td>\n",
       "      <td>0</td>\n",
       "      <td>0</td>\n",
       "      <td>0</td>\n",
       "      <td>0</td>\n",
       "      <td>0</td>\n",
       "    </tr>\n",
       "  </tbody>\n",
       "</table>\n",
       "<p>1100 rows × 1673 columns</p>\n",
       "</div>"
      ],
      "text/plain": [
       "      Class  sodium  extract  alcohol  water  glycerin  glycol  acid  \\\n",
       "0         1       0        0        0      1         0       0     0   \n",
       "1         1       0        0        0      1         1       0     0   \n",
       "2         1       0        0        0      1         1       0     0   \n",
       "3         0       0        0        0      0         0       0     0   \n",
       "4         1       0        0        0      1         1       0     0   \n",
       "...     ...     ...      ...      ...    ...       ...     ...   ...   \n",
       "1095      0       0        0        0      0         0       0     0   \n",
       "1096      1       0        0        0      1         1       0     0   \n",
       "1097      1       0        0        0      1         1       0     0   \n",
       "1098      0       0        0        0      0         0       0     0   \n",
       "1099      0       0        0        0      0         0       0     0   \n",
       "\n",
       "      dimethicone  fragrance  ...  tomato  pyrus  tromethamine  hedera  helix  \\\n",
       "0               1          1  ...       0      0             0       0      0   \n",
       "1               1          0  ...       0      0             0       0      0   \n",
       "2               0          1  ...       0      0             0       0      0   \n",
       "3               0          0  ...       0      0             0       0      0   \n",
       "4               0          0  ...       0      0             0       0      0   \n",
       "...           ...        ...  ...     ...    ...           ...     ...    ...   \n",
       "1095            0          0  ...       0      0             0       0      0   \n",
       "1096            0          1  ...       0      0             0       0      0   \n",
       "1097            1          1  ...       0      0             0       0      0   \n",
       "1098            0          0  ...       0      0             0       0      0   \n",
       "1099            0          0  ...       1      0             0       0      0   \n",
       "\n",
       "      fillers  proprietary  microcapsules  https  pinterest  \n",
       "0           0            0              0      0          0  \n",
       "1           0            0              0      0          0  \n",
       "2           0            0              0      0          0  \n",
       "3           0            0              0      0          0  \n",
       "4           0            0              0      0          0  \n",
       "...       ...          ...            ...    ...        ...  \n",
       "1095        0            0              0      0          0  \n",
       "1096        0            0              0      0          0  \n",
       "1097        0            0              0      0          0  \n",
       "1098        0            0              0      0          0  \n",
       "1099        0            0              0      0          0  \n",
       "\n",
       "[1100 rows x 1673 columns]"
      ]
     },
     "execution_count": 148,
     "metadata": {},
     "output_type": "execute_result"
    }
   ],
   "source": [
    "df = pd.read_csv('../data/onehot.csv')\n",
    "# drop Name Column\n",
    "df.drop('Name', axis=1, inplace=True)\n",
    "\n",
    "# randomize the rows\n",
    "df = df.sample(frac=1).reset_index(drop=True)\n",
    "\n",
    "df"
   ]
  },
  {
   "cell_type": "code",
   "execution_count": 149,
   "metadata": {},
   "outputs": [],
   "source": [
    "from sklearn.metrics import accuracy_score, confusion_matrix, classification_report\n",
    "from sklearn.model_selection import train_test_split\n",
    "from sklearn.svm import SVC"
   ]
  },
  {
   "cell_type": "code",
   "execution_count": 150,
   "metadata": {},
   "outputs": [],
   "source": [
    "X_train, X_test, y_train, y_test = train_test_split(df.drop('Class', axis=1), df['Class'], test_size=0.3, random_state=42)"
   ]
  },
  {
   "cell_type": "code",
   "execution_count": 151,
   "metadata": {},
   "outputs": [
    {
     "data": {
      "text/plain": [
       "(770, 1672)"
      ]
     },
     "execution_count": 151,
     "metadata": {},
     "output_type": "execute_result"
    }
   ],
   "source": [
    "X_train.shape"
   ]
  },
  {
   "cell_type": "code",
   "execution_count": 152,
   "metadata": {},
   "outputs": [
    {
     "name": "stdout",
     "output_type": "stream",
     "text": [
      "Time taken:  0.040281057357788086\n"
     ]
    }
   ],
   "source": [
    "svm = SVC(kernel=\"linear\")\n",
    "svm.fit(X_train, y_train)\n",
    "\n",
    "import time\n",
    "start = time.time()\n",
    "y_pred = svm.predict(X_test)\n",
    "print(\"Time taken: \", time.time() - start)"
   ]
  },
  {
   "cell_type": "code",
   "execution_count": 153,
   "metadata": {},
   "outputs": [
    {
     "data": {
      "text/plain": [
       "89.39393939393939"
      ]
     },
     "execution_count": 153,
     "metadata": {},
     "output_type": "execute_result"
    }
   ],
   "source": [
    "accuracy_score(y_test, y_pred)*100 "
   ]
  },
  {
   "cell_type": "code",
   "execution_count": 181,
   "metadata": {},
   "outputs": [
    {
     "data": {
      "text/plain": [
       "array([[161,   8],\n",
       "       [ 33, 128]], dtype=int64)"
      ]
     },
     "execution_count": 181,
     "metadata": {},
     "output_type": "execute_result"
    }
   ],
   "source": [
    "cm = confusion_matrix(y_test, y_pred)\n",
    "cm"
   ]
  },
  {
   "cell_type": "code",
   "execution_count": 183,
   "metadata": {},
   "outputs": [
    {
     "name": "stdout",
     "output_type": "stream",
     "text": [
      "              precision    recall  f1-score   support\n",
      "\n",
      "           0       0.83      0.95      0.89       169\n",
      "           1       0.94      0.80      0.86       161\n",
      "\n",
      "    accuracy                           0.88       330\n",
      "   macro avg       0.89      0.87      0.87       330\n",
      "weighted avg       0.88      0.88      0.87       330\n",
      "\n"
     ]
    }
   ],
   "source": [
    "print(classification_report(y_test, y_pred))"
   ]
  },
  {
   "cell_type": "code",
   "execution_count": 182,
   "metadata": {},
   "outputs": [
    {
     "data": {
      "image/png": "[encoded data removed]",
      "text/plain": [
       "<Figure size 500x500 with 1 Axes>"
      ]
     },
     "metadata": {},
     "output_type": "display_data"
    }
   ],
   "source": [
    "import matplotlib.pyplot as plt\n",
    "import seaborn as sns\n",
    "\n",
    "plt.figure(figsize=(5,5))\n",
    "sns.heatmap(cm, annot=True, fmt='0.3f', linewidth=0.5, square=True, cbar=False)\n",
    "plt.ylabel('Actual Values')\n",
    "plt.xlabel('Predicted Values')\n",
    "plt.show()"
   ]
  },
  {
   "cell_type": "code",
   "execution_count": 184,
   "metadata": {},
   "outputs": [],
   "source": [
    "from sklearn.preprocessing import StandardScaler\n",
    "scaler = StandardScaler()"
   ]
  },
  {
   "cell_type": "code",
   "execution_count": 185,
   "metadata": {},
   "outputs": [],
   "source": [
    "X_train = scaler.fit_transform(X_train)\n",
    "X_test = scaler.transform(X_test)"
   ]
  },
  {
   "cell_type": "code",
   "execution_count": 186,
   "metadata": {},
   "outputs": [],
   "source": [
    "#PCA\n",
    "from sklearn.decomposition import PCA\n",
    "pca = PCA(n_components=100)"
   ]
  },
  {
   "cell_type": "code",
   "execution_count": 187,
   "metadata": {},
   "outputs": [],
   "source": [
    "X_train_trf = pca.fit_transform(X_train)\n",
    "X_test_trf = pca.transform(X_test)"
   ]
  },
  {
   "cell_type": "code",
   "execution_count": 188,
   "metadata": {},
   "outputs": [
    {
     "data": {
      "text/plain": [
       "(770, 100)"
      ]
     },
     "execution_count": 188,
     "metadata": {},
     "output_type": "execute_result"
    }
   ],
   "source": [
    "X_train_trf.shape"
   ]
  },
  {
   "cell_type": "code",
   "execution_count": 189,
   "metadata": {},
   "outputs": [
    {
     "name": "stdout",
     "output_type": "stream",
     "text": [
      "Time taken:  0.0020418167114257812\n"
     ]
    }
   ],
   "source": [
    "\n",
    "svm = SVC(kernel=\"linear\")\n",
    "svm.fit(X_train_trf, y_train)\n",
    "\n",
    "start = time.time()\n",
    "y_pred = svm.predict(X_test_trf)\n",
    "print(\"Time taken: \", time.time() - start)\n",
    "\n"
   ]
  },
  {
   "cell_type": "code",
   "execution_count": 194,
   "metadata": {},
   "outputs": [
    {
     "data": {
      "text/plain": [
       "88.7878787878788"
      ]
     },
     "execution_count": 194,
     "metadata": {},
     "output_type": "execute_result"
    }
   ],
   "source": [
    "accuracy_score(y_test, y_pred)*100"
   ]
  },
  {
   "cell_type": "code",
   "execution_count": 191,
   "metadata": {},
   "outputs": [
    {
     "data": {
      "text/plain": [
       "array([[164,   5],\n",
       "       [ 32, 129]], dtype=int64)"
      ]
     },
     "execution_count": 191,
     "metadata": {},
     "output_type": "execute_result"
    }
   ],
   "source": [
    "cm = confusion_matrix(y_test, y_pred)\n",
    "cm"
   ]
  },
  {
   "cell_type": "code",
   "execution_count": 192,
   "metadata": {},
   "outputs": [
    {
     "name": "stdout",
     "output_type": "stream",
     "text": [
      "              precision    recall  f1-score   support\n",
      "\n",
      "           0       0.84      0.97      0.90       169\n",
      "           1       0.96      0.80      0.87       161\n",
      "\n",
      "    accuracy                           0.89       330\n",
      "   macro avg       0.90      0.89      0.89       330\n",
      "weighted avg       0.90      0.89      0.89       330\n",
      "\n"
     ]
    }
   ],
   "source": [
    "print(classification_report(y_test, y_pred))"
   ]
  },
  {
   "cell_type": "code",
   "execution_count": null,
   "metadata": {},
   "outputs": [],
   "source": [
    "# for i in range (1,1672):\n",
    "#     pca = PCA(n_components=i)\n",
    "#     X_train_trf = pca.fit_transform(X_train)\n",
    "#     X_test_trf = pca.transform(X_test)\n",
    "\n",
    "#     svm = SVC(kernel=\"linear\")\n",
    "#     svm.fit(X_train_trf, y_train)\n",
    "\n",
    "#     y_pred = svm.predict(X_test_trf)\n",
    "\n",
    "#     print(accuracy_score(y_test, y_pred)*100)    "
   ]
  },
  {
   "cell_type": "code",
   "execution_count": 172,
   "metadata": {},
   "outputs": [],
   "source": [
    "# tranforming to a 2D coordinate system\n",
    "pca = PCA(n_components=3)\n",
    "X_train_trf = pca.fit_transform(X_train)\n",
    "X_test_trf = pca.transform(X_test)\n"
   ]
  },
  {
   "cell_type": "code",
   "execution_count": 173,
   "metadata": {},
   "outputs": [
    {
     "data": {
      "text/plain": [
       "array([[-4.12256742e-01,  1.07146311e-01, -1.19404381e+00],\n",
       "       [-5.02329048e-01,  5.76603446e-02, -2.27092330e+00],\n",
       "       [ 1.52635870e+00, -1.32930674e+00,  3.17405617e+00],\n",
       "       ...,\n",
       "       [-3.87435066e-01,  1.12475166e+00, -1.56147097e+00],\n",
       "       [-5.24940844e-01,  1.71697873e-01, -2.60974018e+00],\n",
       "       [-4.21836664e-01,  2.76333627e-03, -1.43965842e+00]])"
      ]
     },
     "execution_count": 173,
     "metadata": {},
     "output_type": "execute_result"
    }
   ],
   "source": [
    "X_train_trf"
   ]
  },
  {
   "cell_type": "code",
   "execution_count": 170,
   "metadata": {},
   "outputs": [
    {
     "ename": "ValueError",
     "evalue": "Mime type rendering requires nbformat>=4.2.0 but it is not installed",
     "output_type": "error",
     "traceback": [
      "\u001b[1;31m---------------------------------------------------------------------------\u001b[0m",
      "\u001b[1;31mValueError\u001b[0m                                Traceback (most recent call last)",
      "Cell \u001b[1;32mIn[170], line 5\u001b[0m\n\u001b[0;32m      2\u001b[0m y_train_trf \u001b[39m=\u001b[39m y_train\u001b[39m.\u001b[39mastype(\u001b[39mstr\u001b[39m)\n\u001b[0;32m      3\u001b[0m fig \u001b[39m=\u001b[39m px\u001b[39m.\u001b[39mscatter(x\u001b[39m=\u001b[39mX_train_trf[:,\u001b[39m0\u001b[39m], y\u001b[39m=\u001b[39mX_train_trf[:,\u001b[39m1\u001b[39m], color\u001b[39m=\u001b[39my_train_trf,\n\u001b[0;32m      4\u001b[0m                  color_discrete_sequence\u001b[39m=\u001b[39mpx\u001b[39m.\u001b[39mcolors\u001b[39m.\u001b[39mqualitative\u001b[39m.\u001b[39mG10)\n\u001b[1;32m----> 5\u001b[0m fig\u001b[39m.\u001b[39;49mshow()\n",
      "File \u001b[1;32mc:\\Python 3.7\\lib\\site-packages\\plotly\\basedatatypes.py:3390\u001b[0m, in \u001b[0;36mBaseFigure.show\u001b[1;34m(self, *args, **kwargs)\u001b[0m\n\u001b[0;32m   3357\u001b[0m \u001b[39m\"\"\"\u001b[39;00m\n\u001b[0;32m   3358\u001b[0m \u001b[39mShow a figure using either the default renderer(s) or the renderer(s)\u001b[39;00m\n\u001b[0;32m   3359\u001b[0m \u001b[39mspecified by the renderer argument\u001b[39;00m\n\u001b[1;32m   (...)\u001b[0m\n\u001b[0;32m   3386\u001b[0m \u001b[39mNone\u001b[39;00m\n\u001b[0;32m   3387\u001b[0m \u001b[39m\"\"\"\u001b[39;00m\n\u001b[0;32m   3388\u001b[0m \u001b[39mimport\u001b[39;00m \u001b[39mplotly\u001b[39;00m\u001b[39m.\u001b[39;00m\u001b[39mio\u001b[39;00m \u001b[39mas\u001b[39;00m \u001b[39mpio\u001b[39;00m\n\u001b[1;32m-> 3390\u001b[0m \u001b[39mreturn\u001b[39;00m pio\u001b[39m.\u001b[39mshow(\u001b[39mself\u001b[39m, \u001b[39m*\u001b[39margs, \u001b[39m*\u001b[39m\u001b[39m*\u001b[39mkwargs)\n",
      "File \u001b[1;32mc:\\Python 3.7\\lib\\site-packages\\plotly\\io\\_renderers.py:396\u001b[0m, in \u001b[0;36mshow\u001b[1;34m(fig, renderer, validate, **kwargs)\u001b[0m\n\u001b[0;32m    391\u001b[0m         \u001b[39mraise\u001b[39;00m \u001b[39mValueError\u001b[39;00m(\n\u001b[0;32m    392\u001b[0m             \u001b[39m\"\u001b[39m\u001b[39mMime type rendering requires ipython but it is not installed\u001b[39m\u001b[39m\"\u001b[39m\n\u001b[0;32m    393\u001b[0m         )\n\u001b[0;32m    395\u001b[0m     \u001b[39mif\u001b[39;00m \u001b[39mnot\u001b[39;00m nbformat \u001b[39mor\u001b[39;00m Version(nbformat\u001b[39m.\u001b[39m__version__) \u001b[39m<\u001b[39m Version(\u001b[39m\"\u001b[39m\u001b[39m4.2.0\u001b[39m\u001b[39m\"\u001b[39m):\n\u001b[1;32m--> 396\u001b[0m         \u001b[39mraise\u001b[39;00m \u001b[39mValueError\u001b[39;00m(\n\u001b[0;32m    397\u001b[0m             \u001b[39m\"\u001b[39m\u001b[39mMime type rendering requires nbformat>=4.2.0 but it is not installed\u001b[39m\u001b[39m\"\u001b[39m\n\u001b[0;32m    398\u001b[0m         )\n\u001b[0;32m    400\u001b[0m     ipython_display\u001b[39m.\u001b[39mdisplay(bundle, raw\u001b[39m=\u001b[39m\u001b[39mTrue\u001b[39;00m)\n\u001b[0;32m    402\u001b[0m \u001b[39m# external renderers\u001b[39;00m\n",
      "\u001b[1;31mValueError\u001b[0m: Mime type rendering requires nbformat>=4.2.0 but it is not installed"
     ]
    }
   ],
   "source": [
    "# import plotly.express as px\n",
    "# y_train_trf = y_train.astype(str)\n",
    "# fig = px.scatter(x=X_train_trf[:,0], y=X_train_trf[:,1], color=y_train_trf,\n",
    "#                  color_discrete_sequence=px.colors.qualitative.G10)\n",
    "# fig.show()"
   ]
  },
  {
   "cell_type": "code",
   "execution_count": 174,
   "metadata": {},
   "outputs": [
    {
     "data": {
      "text/plain": [
       "array([18.87080263, 10.30412866,  8.60502747])"
      ]
     },
     "execution_count": 174,
     "metadata": {},
     "output_type": "execute_result"
    }
   ],
   "source": [
    "pca.explained_variance_"
   ]
  },
  {
   "cell_type": "code",
   "execution_count": 175,
   "metadata": {},
   "outputs": [
    {
     "data": {
      "text/plain": [
       "(3, 1672)"
      ]
     },
     "execution_count": 175,
     "metadata": {},
     "output_type": "execute_result"
    }
   ],
   "source": [
    "pca.components_.shape"
   ]
  },
  {
   "cell_type": "code",
   "execution_count": 176,
   "metadata": {},
   "outputs": [
    {
     "data": {
      "text/plain": [
       "array([0.04206762, 0.02297042, 0.01918271])"
      ]
     },
     "execution_count": 176,
     "metadata": {},
     "output_type": "execute_result"
    }
   ],
   "source": [
    "pca.explained_variance_ratio_"
   ]
  },
  {
   "cell_type": "code",
   "execution_count": 177,
   "metadata": {},
   "outputs": [],
   "source": [
    "pca = PCA(n_components=None)\n",
    "X_train_trf = pca.fit_transform(X_train)\n",
    "X_test_trf = pca.transform(X_test)"
   ]
  },
  {
   "cell_type": "code",
   "execution_count": 178,
   "metadata": {},
   "outputs": [
    {
     "data": {
      "text/plain": [
       "array([1.88708026e+01, 1.03041412e+01, 8.60575941e+00, 6.96648753e+00,\n",
       "       6.61366079e+00, 6.06607266e+00, 5.84324122e+00, 5.47632251e+00,\n",
       "       5.14790550e+00, 5.09577600e+00, 5.00660268e+00, 4.57735569e+00,\n",
       "       4.52234466e+00, 4.42611659e+00, 4.24105680e+00, 4.17476432e+00,\n",
       "       4.07193976e+00, 3.90408716e+00, 3.85838750e+00, 3.62763346e+00,\n",
       "       3.50282455e+00, 3.47275853e+00, 3.41285455e+00, 3.31418608e+00,\n",
       "       3.27550503e+00, 3.24884579e+00, 3.15003271e+00, 3.07351073e+00,\n",
       "       3.04840888e+00, 2.99877842e+00, 2.96176215e+00, 2.91647360e+00,\n",
       "       2.82565859e+00, 2.78998084e+00, 2.77102933e+00, 2.74479065e+00,\n",
       "       2.71288523e+00, 2.66732448e+00, 2.62960157e+00, 2.56594214e+00,\n",
       "       2.50963638e+00, 2.48255826e+00, 2.43800037e+00, 2.39102903e+00,\n",
       "       2.36773464e+00, 2.34118993e+00, 2.31683858e+00, 2.30852398e+00,\n",
       "       2.27910659e+00, 2.24883896e+00, 2.22496167e+00, 2.21472572e+00,\n",
       "       2.20249956e+00, 2.18085930e+00, 2.16158465e+00, 2.15575222e+00,\n",
       "       2.13125347e+00, 2.12285542e+00, 2.11188477e+00, 2.08543296e+00,\n",
       "       2.07962072e+00, 2.07092864e+00, 2.05186639e+00, 2.04226913e+00,\n",
       "       2.02437886e+00, 2.01620820e+00, 2.01229136e+00, 2.00970155e+00,\n",
       "       2.00520494e+00, 1.99457218e+00, 1.98015034e+00, 1.97291885e+00,\n",
       "       1.94198863e+00, 1.92740233e+00, 1.90724412e+00, 1.89309001e+00,\n",
       "       1.87442778e+00, 1.85728184e+00, 1.84383822e+00, 1.82877266e+00,\n",
       "       1.82455583e+00, 1.80745408e+00, 1.78114235e+00, 1.75947665e+00,\n",
       "       1.74202397e+00, 1.72755507e+00, 1.71162232e+00, 1.70105759e+00,\n",
       "       1.69167785e+00, 1.68372149e+00, 1.66141185e+00, 1.64878478e+00,\n",
       "       1.63567287e+00, 1.62196961e+00, 1.60100947e+00, 1.57954990e+00,\n",
       "       1.56464432e+00, 1.55777000e+00, 1.53380853e+00, 1.51517172e+00,\n",
       "       1.51288927e+00, 1.48197947e+00, 1.46757063e+00, 1.44818652e+00,\n",
       "       1.42964555e+00, 1.42756036e+00, 1.41779118e+00, 1.39452545e+00,\n",
       "       1.38195345e+00, 1.37486720e+00, 1.35520880e+00, 1.34000019e+00,\n",
       "       1.32497501e+00, 1.32079834e+00, 1.29749828e+00, 1.29349512e+00,\n",
       "       1.29172179e+00, 1.27091655e+00, 1.26672028e+00, 1.25425086e+00,\n",
       "       1.24215032e+00, 1.23711938e+00, 1.22193439e+00, 1.22076158e+00,\n",
       "       1.20766439e+00, 1.19073885e+00, 1.18919951e+00, 1.17393738e+00,\n",
       "       1.17015986e+00, 1.15663439e+00, 1.15658531e+00, 1.14750467e+00,\n",
       "       1.13608383e+00, 1.12862914e+00, 1.11772647e+00, 1.11019019e+00,\n",
       "       1.10583559e+00, 1.10132132e+00, 1.09637855e+00, 1.09101840e+00,\n",
       "       1.08837980e+00, 1.07958846e+00, 1.06865063e+00, 1.06604407e+00,\n",
       "       1.06226367e+00, 1.05808729e+00, 1.04851849e+00, 1.04786319e+00,\n",
       "       1.04493620e+00, 1.03314917e+00, 1.03114814e+00, 1.02547678e+00,\n",
       "       1.02235315e+00, 1.01731157e+00, 1.01683900e+00, 1.01357431e+00,\n",
       "       1.00979752e+00, 1.00926501e+00, 1.00598734e+00, 1.00395831e+00,\n",
       "       1.00342629e+00, 1.00260247e+00, 1.00260247e+00, 1.00260247e+00,\n",
       "       1.00260247e+00, 1.00260247e+00, 1.00260247e+00, 1.00260247e+00,\n",
       "       1.00260247e+00, 1.00067326e+00, 9.97885941e-01, 9.82081566e-01,\n",
       "       9.57223605e-01, 9.50580567e-01, 9.49223437e-01, 9.40566646e-01,\n",
       "       9.32487968e-01, 9.20857107e-01, 9.06517888e-01, 8.95844595e-01,\n",
       "       8.90509960e-01, 8.70872950e-01, 8.56411832e-01, 8.53669572e-01,\n",
       "       8.45635706e-01, 8.35943166e-01, 8.25978104e-01, 8.23329030e-01,\n",
       "       8.11123332e-01, 7.95587336e-01, 7.93972595e-01, 7.85539329e-01,\n",
       "       7.80999783e-01, 7.61525509e-01, 7.56268233e-01, 7.48537208e-01,\n",
       "       7.44176944e-01, 7.34534742e-01, 7.23136515e-01, 7.13942388e-01,\n",
       "       7.02942865e-01, 6.99982681e-01, 6.93210582e-01, 6.87547254e-01,\n",
       "       6.75109923e-01, 6.68761988e-01, 6.48400734e-01, 6.40982543e-01,\n",
       "       6.39219441e-01, 6.35502131e-01, 6.26119623e-01, 6.20921064e-01,\n",
       "       6.08466369e-01, 6.01050253e-01, 5.98055000e-01, 5.89173696e-01,\n",
       "       5.85863956e-01, 5.78980131e-01, 5.66786000e-01, 5.59976176e-01,\n",
       "       5.50603157e-01, 5.44207166e-01, 5.34714144e-01, 5.29602552e-01,\n",
       "       5.27334543e-01, 5.20648808e-01, 5.07873229e-01, 4.98601768e-01,\n",
       "       4.92294175e-01, 4.85838159e-01, 4.82807199e-01, 4.82068575e-01,\n",
       "       4.71033018e-01, 4.64889866e-01, 4.62649731e-01, 4.57103966e-01,\n",
       "       4.47784593e-01, 4.45160913e-01, 4.33340614e-01, 4.31909519e-01,\n",
       "       4.24304777e-01, 4.20538124e-01, 4.16948718e-01, 4.09521700e-01,\n",
       "       4.03405506e-01, 3.97583029e-01, 3.91180530e-01, 3.88392258e-01,\n",
       "       3.85276362e-01, 3.73719898e-01, 3.67864851e-01, 3.65385952e-01,\n",
       "       3.62912596e-01, 3.56606400e-01, 3.50992597e-01, 3.44371677e-01,\n",
       "       3.40225206e-01, 3.36678619e-01, 3.29733417e-01, 3.25703229e-01,\n",
       "       3.23287635e-01, 3.14475512e-01, 3.10681635e-01, 3.06350679e-01,\n",
       "       3.01929647e-01, 2.99492652e-01, 2.94147196e-01, 2.87784582e-01,\n",
       "       2.83848369e-01, 2.76448501e-01, 2.73490951e-01, 2.69574422e-01,\n",
       "       2.65453189e-01, 2.56453268e-01, 2.53369304e-01, 2.49656639e-01,\n",
       "       2.49175769e-01, 2.45597319e-01, 2.36535466e-01, 2.32466863e-01,\n",
       "       2.26720774e-01, 2.22368099e-01, 2.18260810e-01, 2.16848139e-01,\n",
       "       2.10541462e-01, 2.06143619e-01, 1.92190695e-01, 1.89517267e-01,\n",
       "       1.87542340e-01, 1.83648658e-01, 1.78480503e-01, 1.74816810e-01,\n",
       "       1.70922232e-01, 1.63827713e-01, 1.62704374e-01, 1.56190351e-01,\n",
       "       1.52379027e-01, 1.52058202e-01, 1.49190207e-01, 1.46095346e-01,\n",
       "       1.43103420e-01, 1.41388968e-01, 1.35374384e-01, 1.28615998e-01,\n",
       "       1.24931463e-01, 1.23153347e-01, 1.19865961e-01, 1.17672240e-01,\n",
       "       1.16008135e-01, 1.11673802e-01, 1.09841900e-01, 1.08702855e-01,\n",
       "       1.04658572e-01, 1.02168310e-01, 9.81278804e-02, 9.54424735e-02,\n",
       "       9.46065750e-02, 8.82793039e-02, 8.59341785e-02, 8.37112137e-02,\n",
       "       8.01668034e-02, 7.56676723e-02, 7.13550328e-02, 7.10819696e-02,\n",
       "       6.40958569e-02, 6.05882909e-02, 5.87237753e-02, 5.71655124e-02,\n",
       "       5.26504395e-02, 5.23118849e-02, 5.06473219e-02, 4.76714364e-02,\n",
       "       4.49792887e-02, 3.91149087e-02, 3.68068412e-02, 3.52683899e-02,\n",
       "       3.11034712e-02, 2.86672117e-02, 2.65607827e-02, 2.40237913e-02,\n",
       "       2.06632147e-02, 1.71908273e-02, 1.63897904e-02, 1.39185787e-02,\n",
       "       9.54383818e-03, 8.42677267e-03, 6.91627862e-03, 4.10461772e-03,\n",
       "       2.12788713e-03, 1.53335291e-03, 3.72160961e-30, 2.27603912e-30,\n",
       "       2.16965306e-30, 2.15101894e-30, 1.99096585e-30, 1.86410489e-30,\n",
       "       1.83467316e-30, 1.66575965e-30, 1.55036196e-30, 1.50638575e-30,\n",
       "       1.44249561e-30, 1.43396573e-30, 1.37403042e-30, 1.28911214e-30,\n",
       "       1.25092309e-30, 1.21597267e-30, 1.20256560e-30, 1.14217843e-30,\n",
       "       1.13848873e-30, 1.09582030e-30, 1.05060244e-30, 1.02322949e-30,\n",
       "       9.45525327e-31, 9.08429015e-31, 8.68959712e-31, 8.47612888e-31,\n",
       "       8.22657461e-31, 8.12093728e-31, 7.90913893e-31, 7.90913893e-31,\n",
       "       7.90913893e-31, 7.90350126e-31, 7.82307297e-31, 7.57859432e-31,\n",
       "       7.21806692e-31, 7.15611835e-31, 7.01205282e-31, 6.90839827e-31,\n",
       "       6.76508688e-31, 6.63201293e-31, 6.36052583e-31, 6.30918313e-31,\n",
       "       6.02957291e-31, 5.98433391e-31, 5.81884459e-31, 5.67096281e-31,\n",
       "       5.41511111e-31, 5.40838224e-31, 5.02970982e-31, 4.94240295e-31,\n",
       "       4.90048450e-31, 4.78555762e-31, 4.58051285e-31, 4.50129397e-31,\n",
       "       4.41939378e-31, 4.29119143e-31, 4.19822534e-31, 4.18431867e-31,\n",
       "       4.10782753e-31, 4.04433827e-31, 3.83597147e-31, 3.80076233e-31,\n",
       "       3.61444192e-31, 3.50792375e-31, 3.49226703e-31, 3.38753118e-31,\n",
       "       3.28805036e-31, 3.11215521e-31, 2.96786000e-31, 2.94371123e-31,\n",
       "       2.77675346e-31, 2.69336378e-31, 2.49914951e-31, 2.37416765e-31,\n",
       "       2.36944764e-31, 2.31438523e-31, 2.27521784e-31, 2.22261200e-31,\n",
       "       2.15909450e-31, 2.14322964e-31, 1.98772974e-31, 1.96969444e-31,\n",
       "       1.94138433e-31, 1.81024336e-31, 1.74304022e-31, 1.71168034e-31,\n",
       "       1.63710424e-31, 1.49299032e-31, 1.35680956e-31, 1.33840943e-31,\n",
       "       1.18250940e-31, 1.07319567e-31, 9.84347466e-32, 9.83631350e-32,\n",
       "       9.38915447e-32, 9.38374617e-32, 8.50705995e-32, 8.23775290e-32,\n",
       "       7.92010357e-32, 7.92010357e-32, 7.92010357e-32, 7.92010357e-32,\n",
       "       7.92010357e-32, 7.92010357e-32, 7.92010357e-32, 7.92010357e-32,\n",
       "       7.92010357e-32, 7.92010357e-32, 7.92010357e-32, 7.92010357e-32,\n",
       "       7.92010357e-32, 7.92010357e-32, 7.92010357e-32, 7.92010357e-32,\n",
       "       7.92010357e-32, 7.92010357e-32, 7.92010357e-32, 7.92010357e-32,\n",
       "       7.92010357e-32, 7.92010357e-32, 7.92010357e-32, 7.92010357e-32,\n",
       "       7.92010357e-32, 7.92010357e-32, 7.92010357e-32, 7.92010357e-32,\n",
       "       7.92010357e-32, 7.92010357e-32, 7.92010357e-32, 7.92010357e-32,\n",
       "       7.92010357e-32, 7.92010357e-32, 7.92010357e-32, 7.92010357e-32,\n",
       "       7.92010357e-32, 7.92010357e-32, 7.92010357e-32, 7.92010357e-32,\n",
       "       7.92010357e-32, 7.92010357e-32, 7.92010357e-32, 7.92010357e-32,\n",
       "       7.92010357e-32, 7.92010357e-32, 7.92010357e-32, 7.92010357e-32,\n",
       "       7.92010357e-32, 7.92010357e-32, 7.92010357e-32, 7.92010357e-32,\n",
       "       7.92010357e-32, 7.92010357e-32, 7.92010357e-32, 7.92010357e-32,\n",
       "       7.92010357e-32, 7.92010357e-32, 7.92010357e-32, 7.92010357e-32,\n",
       "       7.92010357e-32, 7.92010357e-32, 7.92010357e-32, 7.92010357e-32,\n",
       "       7.92010357e-32, 7.92010357e-32, 7.92010357e-32, 7.92010357e-32,\n",
       "       7.92010357e-32, 7.92010357e-32, 7.92010357e-32, 7.92010357e-32,\n",
       "       7.92010357e-32, 7.92010357e-32, 7.92010357e-32, 7.92010357e-32,\n",
       "       7.92010357e-32, 7.92010357e-32, 7.92010357e-32, 7.92010357e-32,\n",
       "       7.92010357e-32, 7.92010357e-32, 7.92010357e-32, 7.92010357e-32,\n",
       "       7.92010357e-32, 7.92010357e-32, 7.92010357e-32, 7.92010357e-32,\n",
       "       7.92010357e-32, 7.92010357e-32, 7.92010357e-32, 7.92010357e-32,\n",
       "       7.92010357e-32, 7.92010357e-32, 7.92010357e-32, 7.92010357e-32,\n",
       "       7.92010357e-32, 7.92010357e-32, 7.92010357e-32, 7.92010357e-32,\n",
       "       7.92010357e-32, 7.92010357e-32, 7.92010357e-32, 7.92010357e-32,\n",
       "       7.92010357e-32, 7.92010357e-32, 7.92010357e-32, 7.92010357e-32,\n",
       "       7.92010357e-32, 7.92010357e-32, 7.92010357e-32, 7.92010357e-32,\n",
       "       7.92010357e-32, 7.92010357e-32, 7.92010357e-32, 7.92010357e-32,\n",
       "       7.92010357e-32, 7.92010357e-32, 7.92010357e-32, 7.92010357e-32,\n",
       "       7.92010357e-32, 7.92010357e-32, 7.92010357e-32, 7.92010357e-32,\n",
       "       7.92010357e-32, 7.92010357e-32, 7.92010357e-32, 7.92010357e-32,\n",
       "       7.92010357e-32, 7.92010357e-32, 7.92010357e-32, 7.92010357e-32,\n",
       "       7.92010357e-32, 7.92010357e-32, 7.92010357e-32, 7.92010357e-32,\n",
       "       7.92010357e-32, 7.92010357e-32, 7.92010357e-32, 7.92010357e-32,\n",
       "       7.92010357e-32, 7.92010357e-32, 7.92010357e-32, 7.92010357e-32,\n",
       "       7.92010357e-32, 7.92010357e-32, 7.92010357e-32, 7.92010357e-32,\n",
       "       7.92010357e-32, 7.92010357e-32, 7.92010357e-32, 7.92010357e-32,\n",
       "       7.92010357e-32, 7.92010357e-32, 7.92010357e-32, 7.92010357e-32,\n",
       "       7.92010357e-32, 7.92010357e-32, 7.92010357e-32, 7.92010357e-32,\n",
       "       7.92010357e-32, 7.92010357e-32, 7.92010357e-32, 7.92010357e-32,\n",
       "       7.92010357e-32, 7.92010357e-32, 7.92010357e-32, 7.92010357e-32,\n",
       "       7.92010357e-32, 7.92010357e-32, 7.92010357e-32, 7.92010357e-32,\n",
       "       7.92010357e-32, 7.92010357e-32, 7.92010357e-32, 7.92010357e-32,\n",
       "       7.92010357e-32, 7.92010357e-32, 7.92010357e-32, 7.92010357e-32,\n",
       "       7.92010357e-32, 7.92010357e-32, 7.92010357e-32, 7.92010357e-32,\n",
       "       7.92010357e-32, 7.92010357e-32, 7.92010357e-32, 7.92010357e-32,\n",
       "       7.92010357e-32, 7.92010357e-32, 7.92010357e-32, 7.92010357e-32,\n",
       "       7.92010357e-32, 7.92010357e-32, 7.92010357e-32, 7.92010357e-32,\n",
       "       7.92010357e-32, 7.92010357e-32, 7.92010357e-32, 7.92010357e-32,\n",
       "       7.92010357e-32, 7.92010357e-32, 7.92010357e-32, 7.92010357e-32,\n",
       "       7.92010357e-32, 7.92010357e-32, 7.92010357e-32, 7.92010357e-32,\n",
       "       7.92010357e-32, 7.92010357e-32, 7.92010357e-32, 7.92010357e-32,\n",
       "       7.92010357e-32, 7.92010357e-32, 7.92010357e-32, 7.92010357e-32,\n",
       "       7.92010357e-32, 7.92010357e-32, 7.92010357e-32, 7.92010357e-32,\n",
       "       7.92010357e-32, 7.92010357e-32, 7.92010357e-32, 7.92010357e-32,\n",
       "       7.92010357e-32, 7.92010357e-32, 7.92010357e-32, 7.92010357e-32,\n",
       "       7.92010357e-32, 7.92010357e-32, 7.92010357e-32, 7.92010357e-32,\n",
       "       7.92010357e-32, 7.92010357e-32, 7.92010357e-32, 7.92010357e-32,\n",
       "       7.92010357e-32, 7.92010357e-32, 7.92010357e-32, 7.92010357e-32,\n",
       "       7.92010357e-32, 7.92010357e-32, 7.92010357e-32, 7.92010357e-32,\n",
       "       7.92010357e-32, 7.92010357e-32, 7.92010357e-32, 7.92010357e-32,\n",
       "       7.92010357e-32, 7.92010357e-32, 7.92010357e-32, 7.92010357e-32,\n",
       "       7.92010357e-32, 7.92010357e-32, 7.92010357e-32, 7.92010357e-32,\n",
       "       7.92010357e-32, 7.92010357e-32, 7.92010357e-32, 7.92010357e-32,\n",
       "       7.92010357e-32, 7.92010357e-32, 7.92010357e-32, 7.92010357e-32,\n",
       "       7.92010357e-32, 7.92010357e-32, 7.92010357e-32, 7.92010357e-32,\n",
       "       7.92010357e-32, 7.92010357e-32, 7.92010357e-32, 7.92010357e-32,\n",
       "       7.92010357e-32, 7.92010357e-32, 7.92010357e-32, 7.92010357e-32,\n",
       "       7.92010357e-32, 7.92010357e-32, 7.92010357e-32, 7.92010357e-32,\n",
       "       7.92010357e-32, 7.92010357e-32, 7.92010357e-32, 7.92010357e-32,\n",
       "       7.92010357e-32, 7.92010357e-32, 7.92010357e-32, 7.92010357e-32,\n",
       "       7.92010357e-32, 7.92010357e-32, 7.92010357e-32, 7.92010357e-32,\n",
       "       7.92010357e-32, 7.92010357e-32, 7.92010357e-32, 7.92010357e-32,\n",
       "       7.92010357e-32, 7.92010357e-32, 7.92010357e-32, 7.27892211e-32,\n",
       "       6.49855661e-32, 6.19921450e-32, 5.84153622e-32, 5.59751065e-32,\n",
       "       4.51504159e-32, 3.72757200e-32, 3.14174309e-32, 3.02396478e-32,\n",
       "       2.97449241e-32, 2.92679978e-32, 2.88949417e-32, 2.35646031e-32,\n",
       "       2.29461066e-32, 1.81006021e-32, 1.45940943e-32, 1.28616361e-32,\n",
       "       8.86350671e-33, 5.22511793e-33, 3.39029673e-33, 2.48276255e-33,\n",
       "       9.37498521e-34, 1.06276585e-34])"
      ]
     },
     "execution_count": 178,
     "metadata": {},
     "output_type": "execute_result"
    }
   ],
   "source": [
    "pca.explained_variance_"
   ]
  },
  {
   "cell_type": "code",
   "execution_count": 179,
   "metadata": {},
   "outputs": [
    {
     "data": {
      "text/plain": [
       "[<matplotlib.lines.Line2D at 0x2c5a4185790>]"
      ]
     },
     "execution_count": 179,
     "metadata": {},
     "output_type": "execute_result"
    },
    {
     "data": {
      "image/png": "[encoded data removed]",
      "text/plain": [
       "<Figure size 640x480 with 1 Axes>"
      ]
     },
     "metadata": {},
     "output_type": "display_data"
    }
   ],
   "source": [
    "plt.plot(np.cumsum(pca.explained_variance_ratio_))"
   ]
  }
 ],
 "metadata": {
  "kernelspec": {
   "display_name": "Python 3",
   "language": "python",
   "name": "python3"
  },
  "language_info": {
   "codemirror_mode": {
    "name": "ipython",
    "version": 3
   },
   "file_extension": ".py",
   "mimetype": "text/x-python",
   "name": "python",
   "nbconvert_exporter": "python",
   "pygments_lexer": "ipython3",
   "version": "3.9.0"
  },
  "orig_nbformat": 4
 },
 "nbformat": 4,
 "nbformat_minor": 2
}
