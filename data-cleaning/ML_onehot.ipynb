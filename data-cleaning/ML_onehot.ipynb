{
 "cells": [
  {
   "attachments": {},
   "cell_type": "markdown",
   "metadata": {},
   "source": [
    "### Importing Data"
   ]
  },
  {
   "cell_type": "code",
   "execution_count": 28,
   "metadata": {},
   "outputs": [],
   "source": [
    "dataFilePath = \"dataset/sample.md\"\n",
    "\n",
    "dataFile = open(dataFilePath)"
   ]
  },
  {
   "attachments": {},
   "cell_type": "markdown",
   "metadata": {},
   "source": [
    "## Converting Raw Data to Array"
   ]
  },
  {
   "cell_type": "code",
   "execution_count": 29,
   "metadata": {},
   "outputs": [
    {
     "name": "stdout",
     "output_type": "stream",
     "text": [
      "[[], ['Milk Fat (80%), Moisture (16%), Salt (3%), permitted natural color (Annatto)'], ['Sugar, Milk Solids (23%), Cocoa Butter, Cocoa Solids, Emulsifiers (442, 476), Vegetable Fat, Maltitol, Flavoring Substances, Contains added flavors (Artificial (Vanilla and Chocolate)), Sweetener (Maltitol (965 I)).'], ['Moong Dal (52%), Edible Vegetable Oil, Salt, Red Chilli Powder, Black Pepper Powder, Cumin Powder, Dry Ginger Powder.'], ['Noodles: Wheat Flour, Palm Oil, Salt, Wheat Gluten, Mineral (Calcium Carbonate), Guar Gum, Sodium Tripolyphosphate, Potassium Carbonate, Sodium Carbonate. Masala Tastemaker: Hydrolysed groundnut (peanut) protein, Mixed spices {(23.9%) (Dehydrated onion, Coriander powder, Red chilli powder (3.3%), Turmeric powder, Ginger powder, Cumin powder, Aniseed, Fenugreek powder, Garlic powder, Clove powder, Black pepper powder)}, Noodle Powder {Wheat flour, Palm oil, Salt, Wheat gluten, Mineral (Calcium carbonate), Guar gum, Sodium triphosphate, Potassium carbonate, Sodium carbonate}, Sugar, Edible starch, Palm oil, Acidifying agent (Citric acid), Colour (Plain caramel), Salt, Mineral (Ferric pyrophosphate), Flavour enhancer (Monosodium glutamate), Wheat protein, Raising agent (Sodium bicarbonate).'], ['Wheat Flour, Sugar, Vegetable Oil, Tutti Frutti (5%), Raisins (5%), Liquid Glucose, Butter, Dextrose Monohydrate, Glycerine, Skimmed Milk Powder, Wheat Bran, Starch, Salt, Emulsifiers [471, 477, 481 (i)], Leavening Agents [450 (i), 500 (ii)], Acidity Regulators [330, 260, 341 (i)], Preservatives [202, 282], Spices & Condiments (Clove, Cinnamon).'], ['Coriander, Cumin, Turmeric, Black Pepper, Cloves, Nutmeg, Dry Ginger, Cassia, Cardamom Seeds, Red Chillies, Fennel, Bay Leaf, Salt, Mustard, Garlic Flakes, Onion Flakes, Mace.'], ['100% Masoor Dal (Split Red Lentil).'], ['Dehydrated Vegetables [Tomato (22.5%), Onion], Iodized Salt, Starch, Sugar, Edible Vegetable Oil, Acidifying Agent (Citric Acid), Hydrolyzed Vegetable Protein, Spices and Condiments [Cumin Powder, Turmeric Powder, Garlic Powder, Coriander Powder, Red Chilli Powder (0.4%)], Flavour Enhancers (Disodium Guanylate, Disodium Inosinate), Thickener (Xanthan Gum), Antioxidant (E320).'], ['Potato (57%), Edible Vegetable Oil, Chickpea Flour (10%), Salt, Red Chilli Powder, Mango Powder, Black Salt.'], [], ['Wheat Flour, Sugar, Refined Palm Oil, Invert Syrup, Leavening [Ammonium Bicarbonate (E 503 (ii)), Sodium Bicarbonate (E 500(ii)), Salt, Skim Milk Powder, Soya Lecithin (E 322), Artificial Vanilla Flavor, Sodium Metabisulphite (E 223) as Preservative.'], ['Sugar, Acidity Regulator (330), Contains Permitted Synthetic Food Colour (110) and Added Orange Flavours (Natural and Nature Identical Flavouring Substances).'], ['Atta Noodles (90.5%) [Wheat Flour, Edible Veg Oil, Salt, Mineral (Calcium Carbonate), Guar Gum], Spice Mix (9.5%) [Mixed Spices {Red Chilli Powder (3.2%), Turmeric Powder, Coriander Powder, Dry Ginger Powder, Cumin Powder, Aniseed Powder, Fenugreek Powder, Black Pepper Powder, Clove Powder, Nutmeg Powder, Cardamom Powder (1.7%), Cinnamon Powder (1.7%), Mustard Powder, Curry Leaf Powder, Mace Powder}, Dehydrated Onion, Sugar, Edible Starch, Hydrolysed Groundnut Protein, Salt, Tomato Powder, Edible Vegetable Oil, Garlic Powder, Acidifying Agent (Citric Acid), Flavour Enhancers (Disodium 5’-Ribonucleotide).'], ['Sugar, Wheat Flour, Vegetable Oil, Cocoa Solids, Invert Syrup, Leavening Agents [503(ii), 500(ii)], Salt, Milk Solids, Emulsifiers [322(i), 471], Permitted Flavor.'], ['Coriander, Cumin, Red Chilli, Turmeric, Black Pepper, Mustard, Dry Mango Powder, Fenugreek Leaves, Salt, Pomegranate Seeds, Nutmeg, Cloves, Caraway, Green Cardamom, Mace, Cinnamon, Bay Leaves, Asafoetida.'], ['Gram Flour (65%), Edible Vegetable Oil, Tapioca Starch, Salt, Red Chilli Powder, Mango Powder, Black Salt, Acidity Regulator (E 330).'], ['Noodles [Wheat Flour, Palm Oil, Salt, Wheat Gluten, Mineral (Calcium Carbonate), Guar Gum, Sodium Tripolyphosphate, Potassium Carbonate, Sodium Carbonate, Seasoning Mix (Dehydrated Vegetables {Tomato, Garlic}, Sugar, Salt, Corn Starch, Edible Vegetable Oil, Hydrolyzed Vegetable Protein, Flavour Enhancer (635), Spices and Condiments {Cumin Powder, Turmeric Powder, Black Pepper Powder, Red Chilli Powder (0.6%), Fenugreek Powder}, Thickener (508), Acidity Regulator (330), Antioxidant (319).'], ['Cheese (60%), Water, Emulsifiers (E 331, E 339, E 452), Common Salt, Acidity Regulator (E 330), Preservative (E 234).'], ['Water, Sugar, Tomato Paste (12%), Chilli Puree (5%), Salt, Vinegar, Corn Starch, Garlic Powder, Ginger Powder'], ['Wheat Flour, Edible Vegetable Oil, Salt.'], ['Water, Onion, Tomato, Potato, Green Peas, Refined Sunflower Oil, Butter, Coriander Leaves, Salt, Red Chilli Powder, Cumin Powder, Turmeric Powder, Dry Mango Powder, Ginger, Garlic, Green Chilli, Cinnamon, Cardamom, Black Pepper.'], ['Noodles [Wheat Flour, Palm Oil, Salt, Wheat Gluten, Mineral (Calcium Carbonate), Guar Gum, Sodium Tripolyphosphate, Potassium Carbonate, Sodium Carbonate], Seasoning Mix [Salt, Sugar, Edible Vegetable Fat, Flavour Enhancers (627, 631), Hydrolysed Vegetable Protein, Spices {Onion Powder (3%), Turmeric Powder, Garlic Powder (0.8%), Coriander Powder, Ginger Powder (0.3%), Cumin Powder, Chilli Powder, Black Pepper Powder, Cardamom Powder (0.1%), Clove Powder, Nutmeg Powder}, Onion Flakes (1.5%), Garlic Flakes (0.7%), Acidity Regulator (330), Edible Vegetable Oil.'], ['Whole Wheat Flour.'], ['Potato (65%), Edible Vegetable Oil, Chickpeas Flour (11%), Salt, Red Chilli Powder, Mango Powder, Black Salt, Coriander Powder, Cumin Powder, Dried Ginger Powder, Cardamom Powder, Cinnamon Powder.'], ['Malt Extract, Sugar, Cocoa Solids, Caramel (INS 150c), Vitamins, Minerals, Emulsifier (INS 322), Salt.'], ['Mango Slices (57%), Edible Vegetable Oil, Salt, Spices & Condiments (Chilli Powder, Fenugreek Powder, Mustard Powder, Turmeric Powder, Cumin Powder, Asafoetida, Coriander Powder), Acidity Regulator (INS 260).'], ['Noodles [Wheat Flour, Palm Oil, Salt, Wheat Gluten, Mineral (Calcium Carbonate), Guar Gum, Sodium Tripolyphosphate, Potassium Carbonate, Sodium Carbonate], Masala Tastemaker [Hydrolysed Groundnut Protein, Mixed Spices {Coriander Powder, Cumin Powder, Turmeric Powder, Red Chilli Powder (3%), Garlic Powder, Aniseed Powder, Fenugreek Powder, Ginger Powder, Black Pepper Powder, Cardamom Powder (0.3%), Clove Powder, Nutmeg Powder}, Sugar, Edible Vegetable Oil, Salt, Wheat Flour, Flavour Enhancer (635), Acidity Regulator (330), Thickener (508), Noodle Powder (Wheat Flour, Palm Oil, Salt, Wheat Gluten, Mineral (Calcium Carbonate), Guar Gum, Sodium Tripolyphosphate, Potassium Carbonate, Sodium Carbonate), Edible Vegetable Oil.'], ['Wheat Flour, Sugar, Edible Vegetable Oil, Invert Syrup, Milk Solids, Raising Agents [503(ii), 500(ii)], Salt, Emulsifiers [322(i), 471], Permitted Flavor.'], ['Extract of Coconut, Water.'], ['Whole Wheat Flour.'], ['Noodles [Wheat Flour, Palm Oil, Salt, Wheat Gluten, Mineral (Calcium Carbonate), Guar Gum, Sodium Tripolyphosphate, Potassium Carbonate, Sodium Carbonate], Tastemaker [Hydrolysed Groundnut Protein, Mixed Spices {Onion Powder, Coriander Powder, Cumin Powder, Turmeric Powder, Garlic Powder, Aniseed Powder, Fenugreek Powder, Ginger Powder, Black Pepper Powder, Clove Powder, Green Cardamom Powder, Nutmeg Powder}, Noodle Powder (Wheat Flour, Palm Oil, Salt, Wheat Gluten, Mineral (Calcium Carbonate), Guar Gum, Sodium Tripolyphosphate, Potassium Carbonate, Sodium Carbonate), Sugar, Edible Vegetable Oil, Salt, Wheat Flour, Corn Flour, Flavour Enhancer (635), Acidity Regulator (330), Mineral (Ferric Pyrophosphate), Colour (Plain Caramel), Edible Vegetable Oil.'], ['Milk Fat.'], ['Edible Vegetable Oil, Bengal Gram Flour, Split Green Gram Flour, Edible Common Salt, Red Chilli, Ginger, Clove, Nutmeg, Cinnamon, Mace, Bay Leaf.'], ['Tea, Natural Flavour.'], ['Milk Solids, Sugar.'], ['Corn Flour, Iodized Salt, Sugar, Edible Vegetable Fat, Dried Sweet Corn (6.5%), Maltodextrin, Milk Solids, Corn Starch, Yeast Extract, Onion Powder (2.2%), Garlic Powder (1%), Edible Starch, Spices (0.6%) (White Pepper Powder, Turmeric Powder), Natural Flavourings, Acidity Regulator (INS 330), Soy Sauce Powder, Caramel Powder (INS 150d), Natural Colour (INS 100).'], ['Wheat Flour, Sugar, Edible Vegetable Oil, Invert Syrup, Leavening Agents [503(ii), 500(ii)], Salt, Emulsifiers [322(i), 471], Dough Conditioner [223].'], ['Ginger (42%), Garlic (42%), Edible Vegetable Oil, Salt, Acidity Regulator (INS 260).'], ['Wheat Flour, Sugar, Edible Vegetable Oil, Cashew (6%), Invert Syrup, Milk Solids, Raising Agents [503(ii), 500(ii)], Salt, Emulsifiers [322(i), 471], Permitted Flavors.'], ['Potato (70%), Edible vegetable oil, Gram flour, Salt, Red chilli powder, Mango powder, Black pepper powder, Cumin powder, Nutmeg powder.'], ['Coriander, Red Chilli, Cumin, Fenugreek, Pepper, Turmeric, Mustard, Bengal Gram Dal, Urad Dal, Curry Leaves, Asafoetida.'], ['Wheat Flour (58%), Sugar, Refined Palm Oil, Invert Syrup, Salt, Leavening (503(ii)), Sodium Metabisulphite (223).'], ['Wheat Flour (70%), Edible Vegetable Oil, Salt, Wheat Gluten, Mineral (Calcium Carbonate), Guar Gum.', 'Vegetable Tastemaker: Hydrolysed Groundnut Protein, Mixed Spices (23.9%) (Dehydrated Onion, Coriander Powder, Red Chilli Powder, Turmeric Powder, Garlic Powder, Cumin Powder, Aniseed Powder, Fenugreek Powder, Ginger Powder), Noodle Powder (Refined Wheat Flour, Edible Vegetable Oil, Salt, Wheat Gluten, Mineral (Calcium Carbonate)), Sugar, Edible Starch, Salt, Edible Vegetable Oil, Acidifying Agent (330), Caramel Colour Powder (150d), Flavour Enhancer (635), Raising Agent (500(ii)), Dehydrated Vegetables (2.2%) (Carrot, Cabbage, Onion, Peas).'], ['Noodles (88.7%) (Wheat Flour, Palm Oil, Salt, Sodium Carbonate, Potassium Carbonate), Iodized Salt, Chicken (2.6%), Flavors (Contains Milk and Soya), Yeast Extract, Corn Starch, Sugar, Onion Powder, Palm Oil, Spices (Turmeric, Pepper), Chicken Fat (0.1%), Acidity Regulator (Citric Acid), Leek.'], ['Milk Solids, Cheese Solids (Milk, Common Salt, Cheese Cultures, Enzymes), Emulsifiers (E471, E407), Common Salt, Permitted Stabilizing and Preservative Agents (E339, E202, E330).'], ['Wheat Flour (75%), Sugar, Refined Palm Oil, Invert Syrup, Leavening (503(ii)), Milk Solids, Salt, Emulsifiers (471, 481(i)), Dough Conditioner (223), Vitamins and Minerals (Niacin, Thiamin, Riboflavin, Folic Acid, Iron).'], ['Coriander, Cumin, Chilli, Black Pepper, Cloves, Nutmeg, Cinnamon, Cardamom, Bay Leaf, Anistar.'], ['Coriander, Cumin, Dry Mango, Salt, Pomegranate Seeds, Black Pepper, Black Salt, Mint, Mustard, Fenugreek Leaves, Fennel, Chilli, Turmeric, Ajwain, Bay Leaves.'], ['Oats (66%), Vegetables (13%) (Carrot, Green Peas, French Beans, Onion), Edible Vegetable Oil, Spices and Condiments (11%) (Garlic, Ginger, Green Chilli, Mustard Seeds, Cumin Seeds, Red Chilli), Salt, Sugar, Milk Solids, Wheat Flour, Raisins'], ['Dehydrated onion (31.5%), Iodised salt, Corn starch, Sugar, Spices (13.4%) [Cumin, Turmeric, Ginger, Coriander, Red chilli powder (3.5%), Cardamom, Clove, Nutmeg], Edible vegetable oil (Palm oil), Garlic (4%), Acidifying agent (Citric acid), Flavour enhancer (Monosodium glutamate).'], ['Refined wheat flour, Sugar, Edible vegetable oil (Palm), Chocolate chips (10.6%) [Sugar, Cocoa solids, Cocoa butter, Emulsifier (Soy lecithin), Artificial flavour], Invert syrup, Milk solids, Raising agents [503(ii), 500(ii)], Edible common salt, Emulsifiers [322 (i), 471], Artificial flavouring substances (Vanilla and Butter).'], ['Red chilli powder (76.5%), Edible vegetable oil (2.5%), Acidity regulator (E330), Moisture content (9.0%), Stabilizer (E415), Anti-caking agent (E551), Emulsifying and stabilizing agents (E414, E412), Contains permitted class II preservatives (E211, E223).'], ['Gram flour (besan) (25%), Sugar, Clarified butter (ghee) (19%), Wheat flour (11%), Liquid glucose, Almonds (5%), Pistachio (5%), Cardamom (1%), Silver leaves.'], ['100% Toor Dal (Split Pigeon Peas).'], ['Oats (66%), Dehydrated Vegetables (Tomato (12%), Onion), Edible Vegetable Oil, Sugar, Spices and Condiments (7.5%) (Coriander Powder, Turmeric Powder, Garlic Powder, Ginger Powder, Cumin Powder, Red Chilli Powder), Salt, Milk Solids, Wheat Flour, Acidity Regulator (Citric Acid), Raisins, Antioxidant (E304).'], ['Water, Whole Black Gram (12%), Red Kidney Beans (7%), Tomato Paste, Refined Sunflower Oil, Butter, Salt, Garlic, Green Chillies, Ginger, Cumin Powder, Coriander Powder, Red Chilli Powder, Cinnamon, Turmeric, Bay Leaves.'], ['Vermicelli (Wheat Semolina), Sugar, Milk Solids, Edible Vegetable Fat (Palm Oil), Cashew Nut, Raisin, Edible Common Salt, Cardamom Powder, Saffron.'], ['Water, Sugar, Tomato paste (19%), Red Chilli paste (7%), Salt, Acidity Regulator (Acetic Acid), Modified Corn Starch, Onion powder, Garlic powder, Ginger powder, Coriander powder, Cumin powder, Red Chilli powder (0.4%), Thickener (Xanthan Gum), Preservative (Sodium Benzoate).'], ['Rice Flakes (23%), Gram Flour (16%), Split Bengal Gram (12%), Edible Vegetable Oil, Corn Flakes (9%), Peanuts (7%), Green Peas (6'], ['Oats (73%), Vegetables (9.9%) (Carrot, Peas, Onion, Beans, Tomato), Spices & Condiments (Onion Powder, Red Chilli Powder, Coriander Powder, Turmeric Powder, Garlic Powder, Cumin Powder, Mustard Seeds), Salt, Sugar, Milk Solids, Edible Vegetable Oil (Palm Oil), Malic Acid.'], ['Wheat Flour, Edible Vegetable Oil, Sugar, Refined Palm Oil, Salt, Invert Syrup, Raising Agents (503(ii), 500(ii)), Ammonium Bicarbonate, Acidity Regulator (296), Dough Conditioner (223), Yeast.'], ['Wheat Flour, Sugar, Edible Vegetable Oil, Invert Syrup, Milk Solids, Raising Agents [503(ii), 500(ii)], Salt, Emulsifiers [322(i), 471], Permitted Flavors.'], ['Semolina (83%), Edible Vegetable Oil, Salt, Mustard, Bengal Gram Dal, Black Gram Dal, Raising Agents (E500(ii), E503(ii)), Acidity Regulator (E296), Curry Leaves, Green Chilli, Ginger.'], ['Potato (35%), Edible Vegetable Oil, Chickpea Flour, Tapioca Starch, Salt, Red Chilli Powder, Mango Powder, Black Salt, Coriander Powder, Cumin Powder, Dry Ginger Powder, Black Pepper Powder, Cardamom Powder, Cinnamon Powder, Mace Powder, Nutmeg Powder.'], ['Tomato Puree (43.9%), Sugar, Water, Vinegar, Red Chilli Paste (4.6%), Iodized Salt, Corn Starch, Garlic Powder, Onion Powder, Ginger Powder, Red Chilli Powder (0.5%), Thickener (415), Acidity Regulator (260), Preservative (211), Cumin Powder, Clove Powder.'], ['Extracted from Fresh Coconuts.'], ['Urad Flour (55%), Water, Asafoetida, Edible Common Salt.'], ['Coriander, Chilli, Cumin, Salt, Turmeric, Black Pepper, Dry Ginger, Cassia, Cloves, Fennel, Garlic, Cardamom Seeds.'], ['Vermicelli [Wheat Semolina (83%), Edible Vegetable Oil], Salt.'], ['Sugar, Corn Starch, Edible Vegetable Oil, Salt, Tomato Powder (8.6%), Wheat Flour, Milk Solids, Edible Starch, Dehydrated Vegetables (Onion, Garlic, Tomato) (4.8%), Flavors, Yeast Extract, Acidifying Agent (330), Soy Sauce Powder.'], ['Wheat Flour, Sugar, Edible Vegetable Oil, Invert Syrup, Leavening [503(ii), 500(ii)], Salt, Milk Solids, Permitted Emulsifiers [322(i), 471], Dough Conditioner [223], Artificial Flavors.'], ['Noodles: Wheat Flour, Palm Oil, Salt, Wheat Gluten, Mineral (Calcium Carbonate), Guar Gum, Sodium Tripolyphosphate, Potassium Carbonate, Sodium Carbonate, Acidity Regulator (Citric Acid). Masala Tastemaker: Hydrolysed Peanut Protein, Mixed Spices (Coriander, Cumin, Chilli, Turmeric, Ginger, Aniseed, Pepper, Fenugreek, Clove, Nutmeg), Noodle Powder, Sugar, Edible Starch, Salt, Palm Oil, Soy Sauce Powder, Onion, Garlic, Citric Acid, Potassium Chloride, Sodium Bicarbonate.'], ['Sugar, Gram Flour, Refined Palm Oil, Wheat Flour, Skimmed Milk Powder, Cardamom Powder, Pistachio, Almond.'], ['Vacuum Evaporated Iodized Salt (100%).'], ['Whole Wheat Flour (100%).'], ['Amla Juice (Emblica Officinalis) (98.6%), Permitted Class II Preservative (E-211).'], ['Chickpeas (24%), Refined Vegetable Oil, Red Lentils (14%), Green Peas, Split Bengal Gram (8%), Salt, Spices & Condiments (2.5%) (Onion Powder, Red Chilli Powder, Coriander Powder, Turmeric Powder, Garlic Powder, Cumin Powder, Mustard Seeds, Fennel Seeds, Black Pepper, Fenugreek Leaves), Mango Powder, Citric Acid.'], ['Black Salt, Salt, Dry Mango, Cumin, Red Chilli, Coriander, Black Pepper, Pomegranate Seeds, Mint Leaves, Nutmeg, Caraway, Cloves, Asafoetida.'], ['Coriander, Cumin, Chilli, Black Pepper, Fennel Seeds, Brown Cardamom, Cassia, Cloves.'], ['Wheat Flour, Sugar, Edible Vegetable Oil, Butter, Invert Syrup, Milk Solids, Raising Agents [503(ii), 500(ii)], Salt, Emulsifiers [322(i), 471], Dough Conditioner [223], Artificial Flavors.'], ['Mixed Fruit Pulp (45%) (Banana, Papaya, Apple, Pear, Pineapple, Mango), Sugar, Thickener (440), Acidity Regulator (330), Preservative (211), Mixed Spices.'], ['Chickpeas, Water, Onion, Tomato, Edible Vegetable Oil, Salt, Ginger, Garlic, Coriander Leaves, Cumin, Coriander Powder, Red Chilli, Turmeric Powder, Bay Leaves, Cinnamon.'], ['Coriander, Cumin, Turmeric, Black Pepper, Chilli, Fenugreek Leaves, Salt, Nutmeg, Dry Ginger, Mustard, Cassia, Cardamom Seeds, Cloves, Asafoetida.'], ['Gram Flour, Edible Vegetable Oil, Salt, Red Chilli Powder, Clove Powder, Black Pepper Powder, Cardamom Powder, Nutmeg Powder, Mace Powder.'], ['Soluble Coffee Powder (70%), Chicory Powder (30%).'], ['Sugar, Hydrogenated Vegetable Fat, Milk Solids, Cocoa Solids, Rice Crispies (Rice Flour, Sugar, Wheat Flour, Malt Extract, Salt, Dextrose Monohydrate), Emulsifiers (322(i), 476), Salt, Edible Glitter.'], ['Milk Fat (99.8%), Moisture.'], ['Honey (100%).'], ['Sugar, Malt Extract (21%), Cocoa Solids, Caramel (150c), Milk Solids, Emulsifiers (471, 322), Vitamins, Minerals, Raising Agent (500(ii)), Salt.'], ['Noodles: Wheat Flour, Edible Vegetable Oil, Salt, Wheat Gluten, Mineral (Calcium Carbonate), Guar Gum. Curry Flavour Mix: Salt, Spices (Coriander, Turmeric, Red Chilli, Cumin), Sugar, Dehydrated Vegetables (Onion, Garlic, Tomato), Edible Vegetable Oil, Hydrolysed Groundnut Protein, Coriander Leaves, Tartaric Acid.']]\n"
     ]
    }
   ],
   "source": [
    "include_Product_Name_in_Dataset = 1\n",
    "\n",
    "dictionary = {}\n",
    "\n",
    "ingdList = []\n",
    "\n",
    "buf = []\n",
    "for line in dataFile.readlines():\n",
    "    if(len(line) > 2):\n",
    "        ## Check if new ingridient has started\n",
    "        if (line[1] == \".\" or line[2] == \".\"): # or line[3] == \".\"):\n",
    "            # store product name\n",
    "            # words = line.split(' ')\n",
    "            # words \n",
    "\n",
    "\n",
    "            # store ingridients from buf to list\n",
    "            ingdList.append(buf)\n",
    "            buf = []\n",
    "            # if(len(buf) > 0):\n",
    "            # if(buf != []):\n",
    "            #     ingdList.append(buf)\n",
    "            #     buf = []\n",
    "        else:\n",
    "            spaceCount = line.count(' ')\n",
    "            newLineCount = line.count('\\n')\n",
    "\n",
    "            # check if it has other character than space and new line\n",
    "            if (spaceCount + newLineCount != len(line)):\n",
    "              if(line[0] == '-' or line[0] == '.'):\n",
    "                line = line[1:]\n",
    "                while(line[0] == ' '):\n",
    "                  line = line[1:]\n",
    "                while(line[-1] == '\\n'):\n",
    "                  line = line[0:-1]\n",
    "                buf.append(line)\n",
    "\n",
    "\n",
    "print(ingdList)"
   ]
  },
  {
   "attachments": {},
   "cell_type": "markdown",
   "metadata": {},
   "source": [
    "## Onehot Encoder"
   ]
  },
  {
   "cell_type": "code",
   "execution_count": 2,
   "metadata": {},
   "outputs": [],
   "source": [
    "import numpy as np\n",
    "import pandas as pd\n",
    "import matplotlib.pyplot as plt"
   ]
  },
  {
   "cell_type": "code",
   "execution_count": null,
   "metadata": {},
   "outputs": [],
   "source": []
  },
  {
   "cell_type": "code",
   "execution_count": 23,
   "metadata": {},
   "outputs": [],
   "source": [
    "# data = pd.read_csv('dataset/outWords_beauty_words.csv')"
   ]
  },
  {
   "cell_type": "code",
   "execution_count": null,
   "metadata": {},
   "outputs": [],
   "source": []
  }
 ],
 "metadata": {
  "kernelspec": {
   "display_name": "Python 3",
   "language": "python",
   "name": "python3"
  },
  "language_info": {
   "codemirror_mode": {
    "name": "ipython",
    "version": 3
   },
   "file_extension": ".py",
   "mimetype": "text/x-python",
   "name": "python",
   "nbconvert_exporter": "python",
   "pygments_lexer": "ipython3",
   "version": "3.10.6"
  },
  "orig_nbformat": 4
 },
 "nbformat": 4,
 "nbformat_minor": 2
}
