{
 "cells": [
  {
   "cell_type": "code",
   "execution_count": 2,
   "metadata": {},
   "outputs": [],
   "source": [
    "import pandas as pd\n",
    "import numpy as np\n",
    "import matplotlib.pyplot as plt"
   ]
  },
  {
   "cell_type": "code",
   "execution_count": 3,
   "metadata": {},
   "outputs": [
    {
     "data": {
      "text/html": [
       "<div>\n",
       "<style scoped>\n",
       "    .dataframe tbody tr th:only-of-type {\n",
       "        vertical-align: middle;\n",
       "    }\n",
       "\n",
       "    .dataframe tbody tr th {\n",
       "        vertical-align: top;\n",
       "    }\n",
       "\n",
       "    .dataframe thead th {\n",
       "        text-align: right;\n",
       "    }\n",
       "</style>\n",
       "<table border=\"1\" class=\"dataframe\">\n",
       "  <thead>\n",
       "    <tr style=\"text-align: right;\">\n",
       "      <th></th>\n",
       "      <th>Class</th>\n",
       "      <th>sodium</th>\n",
       "      <th>extract</th>\n",
       "      <th>alcohol</th>\n",
       "      <th>water</th>\n",
       "      <th>glycerin</th>\n",
       "      <th>glycol</th>\n",
       "      <th>acid</th>\n",
       "      <th>dimethicone</th>\n",
       "      <th>fragrance</th>\n",
       "      <th>...</th>\n",
       "      <th>tomato</th>\n",
       "      <th>pyrus</th>\n",
       "      <th>tromethamine</th>\n",
       "      <th>hedera</th>\n",
       "      <th>helix</th>\n",
       "      <th>fillers</th>\n",
       "      <th>proprietary</th>\n",
       "      <th>microcapsules</th>\n",
       "      <th>https</th>\n",
       "      <th>pinterest</th>\n",
       "    </tr>\n",
       "  </thead>\n",
       "  <tbody>\n",
       "    <tr>\n",
       "      <th>0</th>\n",
       "      <td>0</td>\n",
       "      <td>1</td>\n",
       "      <td>0</td>\n",
       "      <td>0</td>\n",
       "      <td>1</td>\n",
       "      <td>0</td>\n",
       "      <td>0</td>\n",
       "      <td>0</td>\n",
       "      <td>0</td>\n",
       "      <td>0</td>\n",
       "      <td>...</td>\n",
       "      <td>0</td>\n",
       "      <td>0</td>\n",
       "      <td>0</td>\n",
       "      <td>0</td>\n",
       "      <td>0</td>\n",
       "      <td>0</td>\n",
       "      <td>0</td>\n",
       "      <td>0</td>\n",
       "      <td>0</td>\n",
       "      <td>0</td>\n",
       "    </tr>\n",
       "    <tr>\n",
       "      <th>1</th>\n",
       "      <td>0</td>\n",
       "      <td>1</td>\n",
       "      <td>1</td>\n",
       "      <td>0</td>\n",
       "      <td>0</td>\n",
       "      <td>0</td>\n",
       "      <td>0</td>\n",
       "      <td>1</td>\n",
       "      <td>0</td>\n",
       "      <td>0</td>\n",
       "      <td>...</td>\n",
       "      <td>0</td>\n",
       "      <td>0</td>\n",
       "      <td>0</td>\n",
       "      <td>0</td>\n",
       "      <td>0</td>\n",
       "      <td>0</td>\n",
       "      <td>0</td>\n",
       "      <td>0</td>\n",
       "      <td>0</td>\n",
       "      <td>0</td>\n",
       "    </tr>\n",
       "    <tr>\n",
       "      <th>2</th>\n",
       "      <td>1</td>\n",
       "      <td>0</td>\n",
       "      <td>0</td>\n",
       "      <td>0</td>\n",
       "      <td>1</td>\n",
       "      <td>1</td>\n",
       "      <td>0</td>\n",
       "      <td>0</td>\n",
       "      <td>0</td>\n",
       "      <td>0</td>\n",
       "      <td>...</td>\n",
       "      <td>0</td>\n",
       "      <td>0</td>\n",
       "      <td>0</td>\n",
       "      <td>0</td>\n",
       "      <td>0</td>\n",
       "      <td>0</td>\n",
       "      <td>0</td>\n",
       "      <td>0</td>\n",
       "      <td>0</td>\n",
       "      <td>0</td>\n",
       "    </tr>\n",
       "    <tr>\n",
       "      <th>3</th>\n",
       "      <td>0</td>\n",
       "      <td>0</td>\n",
       "      <td>1</td>\n",
       "      <td>0</td>\n",
       "      <td>0</td>\n",
       "      <td>0</td>\n",
       "      <td>0</td>\n",
       "      <td>1</td>\n",
       "      <td>0</td>\n",
       "      <td>0</td>\n",
       "      <td>...</td>\n",
       "      <td>0</td>\n",
       "      <td>0</td>\n",
       "      <td>0</td>\n",
       "      <td>0</td>\n",
       "      <td>0</td>\n",
       "      <td>0</td>\n",
       "      <td>0</td>\n",
       "      <td>0</td>\n",
       "      <td>0</td>\n",
       "      <td>0</td>\n",
       "    </tr>\n",
       "    <tr>\n",
       "      <th>4</th>\n",
       "      <td>1</td>\n",
       "      <td>1</td>\n",
       "      <td>0</td>\n",
       "      <td>0</td>\n",
       "      <td>1</td>\n",
       "      <td>1</td>\n",
       "      <td>0</td>\n",
       "      <td>1</td>\n",
       "      <td>0</td>\n",
       "      <td>0</td>\n",
       "      <td>...</td>\n",
       "      <td>0</td>\n",
       "      <td>0</td>\n",
       "      <td>0</td>\n",
       "      <td>0</td>\n",
       "      <td>0</td>\n",
       "      <td>0</td>\n",
       "      <td>0</td>\n",
       "      <td>0</td>\n",
       "      <td>0</td>\n",
       "      <td>0</td>\n",
       "    </tr>\n",
       "  </tbody>\n",
       "</table>\n",
       "<p>5 rows × 1673 columns</p>\n",
       "</div>"
      ],
      "text/plain": [
       "   Class  sodium  extract  alcohol  water  glycerin  glycol  acid  \\\n",
       "0      0       1        0        0      1         0       0     0   \n",
       "1      0       1        1        0      0         0       0     1   \n",
       "2      1       0        0        0      1         1       0     0   \n",
       "3      0       0        1        0      0         0       0     1   \n",
       "4      1       1        0        0      1         1       0     1   \n",
       "\n",
       "   dimethicone  fragrance  ...  tomato  pyrus  tromethamine  hedera  helix  \\\n",
       "0            0          0  ...       0      0             0       0      0   \n",
       "1            0          0  ...       0      0             0       0      0   \n",
       "2            0          0  ...       0      0             0       0      0   \n",
       "3            0          0  ...       0      0             0       0      0   \n",
       "4            0          0  ...       0      0             0       0      0   \n",
       "\n",
       "   fillers  proprietary  microcapsules  https  pinterest  \n",
       "0        0            0              0      0          0  \n",
       "1        0            0              0      0          0  \n",
       "2        0            0              0      0          0  \n",
       "3        0            0              0      0          0  \n",
       "4        0            0              0      0          0  \n",
       "\n",
       "[5 rows x 1673 columns]"
      ]
     },
     "execution_count": 3,
     "metadata": {},
     "output_type": "execute_result"
    }
   ],
   "source": [
    "df = pd.read_csv('../data/onehot.csv')\n",
    "\n",
    "df.drop('Name', axis=1, inplace=True)\n",
    "\n",
    "df = df.sample(frac=1).reset_index(drop=True)\n",
    "\n",
    "df.head()"
   ]
  },
  {
   "cell_type": "code",
   "execution_count": 4,
   "metadata": {},
   "outputs": [],
   "source": [
    "from sklearn.metrics import accuracy_score, confusion_matrix, classification_report\n",
    "from sklearn.model_selection import train_test_split\n",
    "from sklearn.svm import SVC"
   ]
  },
  {
   "cell_type": "code",
   "execution_count": 5,
   "metadata": {},
   "outputs": [],
   "source": [
    "X_train, X_test, y_train, y_test = train_test_split(df.drop('Class', axis=1), df['Class'], test_size=0.3, random_state=42)"
   ]
  },
  {
   "cell_type": "code",
   "execution_count": 6,
   "metadata": {},
   "outputs": [
    {
     "data": {
      "text/plain": [
       "(770, 1672)"
      ]
     },
     "execution_count": 6,
     "metadata": {},
     "output_type": "execute_result"
    }
   ],
   "source": [
    "X_train.shape"
   ]
  },
  {
   "cell_type": "code",
   "execution_count": 7,
   "metadata": {},
   "outputs": [],
   "source": [
    "svm = SVC(kernel='linear', C=1.0, random_state=47)\n",
    "svm.fit(X_train, y_train)\n",
    "\n",
    "y_pred = svm.predict(X_test)"
   ]
  },
  {
   "cell_type": "code",
   "execution_count": 8,
   "metadata": {},
   "outputs": [],
   "source": [
    "X_trainC, X_testC, y_trainC, y_testC= X_train, X_test, y_train, y_test"
   ]
  },
  {
   "attachments": {},
   "cell_type": "markdown",
   "metadata": {},
   "source": [
    "## SVM without PCA"
   ]
  },
  {
   "cell_type": "code",
   "execution_count": 9,
   "metadata": {},
   "outputs": [
    {
     "data": {
      "text/plain": [
       "0.9606060606060606"
      ]
     },
     "execution_count": 9,
     "metadata": {},
     "output_type": "execute_result"
    }
   ],
   "source": [
    "accuracy_score(y_test, y_pred)"
   ]
  },
  {
   "cell_type": "code",
   "execution_count": 10,
   "metadata": {},
   "outputs": [
    {
     "name": "stdout",
     "output_type": "stream",
     "text": [
      "              precision    recall  f1-score   support\n",
      "\n",
      "           0       0.94      0.98      0.96       167\n",
      "           1       0.98      0.94      0.96       163\n",
      "\n",
      "    accuracy                           0.96       330\n",
      "   macro avg       0.96      0.96      0.96       330\n",
      "weighted avg       0.96      0.96      0.96       330\n",
      "\n"
     ]
    }
   ],
   "source": [
    "print(classification_report(y_test, y_pred))"
   ]
  },
  {
   "cell_type": "code",
   "execution_count": 11,
   "metadata": {},
   "outputs": [],
   "source": [
    "from sklearn.preprocessing import StandardScaler\n",
    "scalar = StandardScaler()"
   ]
  },
  {
   "cell_type": "code",
   "execution_count": 12,
   "metadata": {},
   "outputs": [],
   "source": [
    "X_train = scalar.fit_transform(X_train)\n",
    "X_test = scalar.transform(X_test)"
   ]
  },
  {
   "attachments": {},
   "cell_type": "markdown",
   "metadata": {},
   "source": [
    "## SVM with PCA"
   ]
  },
  {
   "cell_type": "code",
   "execution_count": 13,
   "metadata": {},
   "outputs": [],
   "source": [
    "#PCA\n",
    "from sklearn.decomposition import PCA\n",
    "pca = PCA(n_components=None)"
   ]
  },
  {
   "cell_type": "code",
   "execution_count": 14,
   "metadata": {},
   "outputs": [
    {
     "name": "stdout",
     "output_type": "stream",
     "text": [
      "PCA()\n"
     ]
    }
   ],
   "source": [
    "# print the PCA components\n",
    "print(pca.fit(X_train))"
   ]
  },
  {
   "cell_type": "code",
   "execution_count": 15,
   "metadata": {},
   "outputs": [
    {
     "name": "stdout",
     "output_type": "stream",
     "text": [
      "(770, 1672)\n",
      "[[ 2.33616720e-02  2.22787841e-02  9.37572780e-03 ...  4.71389103e-04\n",
      "  -0.00000000e+00 -0.00000000e+00]\n",
      " [ 5.78820571e-02  3.44138348e-02  5.51935787e-02 ...  5.24338448e-03\n",
      "   0.00000000e+00  0.00000000e+00]\n",
      " [ 1.15645577e-03  1.50413464e-02  3.62377236e-03 ... -1.36796427e-03\n",
      "   0.00000000e+00  0.00000000e+00]\n",
      " ...\n",
      " [-7.01380575e-17  4.65236315e-17  3.60394617e-17 ... -5.04516673e-03\n",
      "   0.00000000e+00  0.00000000e+00]\n",
      " [-1.83578815e-16 -2.49524896e-16  4.36361337e-16 ... -8.19027071e-03\n",
      "  -0.00000000e+00 -0.00000000e+00]\n",
      " [ 1.49704465e-16  1.69608530e-16 -2.60915487e-16 ...  5.42065755e-03\n",
      "  -0.00000000e+00 -0.00000000e+00]]\n"
     ]
    }
   ],
   "source": [
    "# print the PCA transformation matrix\n",
    "print(pca.components_.shape)\n",
    "print(pca.components_)"
   ]
  },
  {
   "cell_type": "code",
   "execution_count": 16,
   "metadata": {},
   "outputs": [
    {
     "name": "stdout",
     "output_type": "stream",
     "text": [
      "(770, 1672)\n",
      "(770, 770)\n"
     ]
    }
   ],
   "source": [
    "# print the shape of the data before and after PCA\n",
    "print(X_train.shape)\n",
    "X_train = pca.fit_transform(X_train)\n",
    "X_test = pca.transform(X_test)\n",
    "print(X_train.shape)"
   ]
  },
  {
   "cell_type": "code",
   "execution_count": 17,
   "metadata": {},
   "outputs": [],
   "source": [
    "X_train = pca.fit_transform(X_train)\n",
    "X_test = pca.transform(X_test)"
   ]
  },
  {
   "cell_type": "code",
   "execution_count": 18,
   "metadata": {},
   "outputs": [
    {
     "data": {
      "text/html": [
       "<style>#sk-container-id-1 {color: black;background-color: white;}#sk-container-id-1 pre{padding: 0;}#sk-container-id-1 div.sk-toggleable {background-color: white;}#sk-container-id-1 label.sk-toggleable__label {cursor: pointer;display: block;width: 100%;margin-bottom: 0;padding: 0.3em;box-sizing: border-box;text-align: center;}#sk-container-id-1 label.sk-toggleable__label-arrow:before {content: \"▸\";float: left;margin-right: 0.25em;color: #696969;}#sk-container-id-1 label.sk-toggleable__label-arrow:hover:before {color: black;}#sk-container-id-1 div.sk-estimator:hover label.sk-toggleable__label-arrow:before {color: black;}#sk-container-id-1 div.sk-toggleable__content {max-height: 0;max-width: 0;overflow: hidden;text-align: left;background-color: #f0f8ff;}#sk-container-id-1 div.sk-toggleable__content pre {margin: 0.2em;color: black;border-radius: 0.25em;background-color: #f0f8ff;}#sk-container-id-1 input.sk-toggleable__control:checked~div.sk-toggleable__content {max-height: 200px;max-width: 100%;overflow: auto;}#sk-container-id-1 input.sk-toggleable__control:checked~label.sk-toggleable__label-arrow:before {content: \"▾\";}#sk-container-id-1 div.sk-estimator input.sk-toggleable__control:checked~label.sk-toggleable__label {background-color: #d4ebff;}#sk-container-id-1 div.sk-label input.sk-toggleable__control:checked~label.sk-toggleable__label {background-color: #d4ebff;}#sk-container-id-1 input.sk-hidden--visually {border: 0;clip: rect(1px 1px 1px 1px);clip: rect(1px, 1px, 1px, 1px);height: 1px;margin: -1px;overflow: hidden;padding: 0;position: absolute;width: 1px;}#sk-container-id-1 div.sk-estimator {font-family: monospace;background-color: #f0f8ff;border: 1px dotted black;border-radius: 0.25em;box-sizing: border-box;margin-bottom: 0.5em;}#sk-container-id-1 div.sk-estimator:hover {background-color: #d4ebff;}#sk-container-id-1 div.sk-parallel-item::after {content: \"\";width: 100%;border-bottom: 1px solid gray;flex-grow: 1;}#sk-container-id-1 div.sk-label:hover label.sk-toggleable__label {background-color: #d4ebff;}#sk-container-id-1 div.sk-serial::before {content: \"\";position: absolute;border-left: 1px solid gray;box-sizing: border-box;top: 0;bottom: 0;left: 50%;z-index: 0;}#sk-container-id-1 div.sk-serial {display: flex;flex-direction: column;align-items: center;background-color: white;padding-right: 0.2em;padding-left: 0.2em;position: relative;}#sk-container-id-1 div.sk-item {position: relative;z-index: 1;}#sk-container-id-1 div.sk-parallel {display: flex;align-items: stretch;justify-content: center;background-color: white;position: relative;}#sk-container-id-1 div.sk-item::before, #sk-container-id-1 div.sk-parallel-item::before {content: \"\";position: absolute;border-left: 1px solid gray;box-sizing: border-box;top: 0;bottom: 0;left: 50%;z-index: -1;}#sk-container-id-1 div.sk-parallel-item {display: flex;flex-direction: column;z-index: 1;position: relative;background-color: white;}#sk-container-id-1 div.sk-parallel-item:first-child::after {align-self: flex-end;width: 50%;}#sk-container-id-1 div.sk-parallel-item:last-child::after {align-self: flex-start;width: 50%;}#sk-container-id-1 div.sk-parallel-item:only-child::after {width: 0;}#sk-container-id-1 div.sk-dashed-wrapped {border: 1px dashed gray;margin: 0 0.4em 0.5em 0.4em;box-sizing: border-box;padding-bottom: 0.4em;background-color: white;}#sk-container-id-1 div.sk-label label {font-family: monospace;font-weight: bold;display: inline-block;line-height: 1.2em;}#sk-container-id-1 div.sk-label-container {text-align: center;}#sk-container-id-1 div.sk-container {/* jupyter's `normalize.less` sets `[hidden] { display: none; }` but bootstrap.min.css set `[hidden] { display: none !important; }` so we also need the `!important` here to be able to override the default hidden behavior on the sphinx rendered scikit-learn.org. See: https://github.com/scikit-learn/scikit-learn/issues/21755 */display: inline-block !important;position: relative;}#sk-container-id-1 div.sk-text-repr-fallback {display: none;}</style><div id=\"sk-container-id-1\" class=\"sk-top-container\"><div class=\"sk-text-repr-fallback\"><pre>SVC(kernel=&#x27;linear&#x27;, random_state=47)</pre><b>In a Jupyter environment, please rerun this cell to show the HTML representation or trust the notebook. <br />On GitHub, the HTML representation is unable to render, please try loading this page with nbviewer.org.</b></div><div class=\"sk-container\" hidden><div class=\"sk-item\"><div class=\"sk-estimator sk-toggleable\"><input class=\"sk-toggleable__control sk-hidden--visually\" id=\"sk-estimator-id-1\" type=\"checkbox\" checked><label for=\"sk-estimator-id-1\" class=\"sk-toggleable__label sk-toggleable__label-arrow\">SVC</label><div class=\"sk-toggleable__content\"><pre>SVC(kernel=&#x27;linear&#x27;, random_state=47)</pre></div></div></div></div></div>"
      ],
      "text/plain": [
       "SVC(kernel='linear', random_state=47)"
      ]
     },
     "execution_count": 18,
     "metadata": {},
     "output_type": "execute_result"
    }
   ],
   "source": [
    "svm = SVC(kernel='linear', C=1.0, random_state=47)\n",
    "svm.fit(X_train, y_train)"
   ]
  },
  {
   "cell_type": "code",
   "execution_count": 19,
   "metadata": {},
   "outputs": [
    {
     "data": {
      "text/plain": [
       "0.9272727272727272"
      ]
     },
     "execution_count": 19,
     "metadata": {},
     "output_type": "execute_result"
    }
   ],
   "source": [
    "y_pred = svm.predict(X_test)\n",
    "\n",
    "accuracy_score(y_test, y_pred)"
   ]
  },
  {
   "cell_type": "code",
   "execution_count": 20,
   "metadata": {},
   "outputs": [
    {
     "name": "stdout",
     "output_type": "stream",
     "text": [
      "Fitting 5 folds for each of 25 candidates, totalling 125 fits\n",
      "[CV 1/5] END ........C=0.1, gamma=1, kernel=rbf;, score=0.513 total time=   0.1s\n",
      "[CV 2/5] END ........C=0.1, gamma=1, kernel=rbf;, score=0.513 total time=   0.1s\n",
      "[CV 3/5] END ........C=0.1, gamma=1, kernel=rbf;, score=0.513 total time=   0.1s\n",
      "[CV 4/5] END ........C=0.1, gamma=1, kernel=rbf;, score=0.513 total time=   0.1s\n",
      "[CV 5/5] END ........C=0.1, gamma=1, kernel=rbf;, score=0.506 total time=   0.1s\n",
      "[CV 1/5] END ......C=0.1, gamma=0.1, kernel=rbf;, score=0.513 total time=   0.1s\n",
      "[CV 2/5] END ......C=0.1, gamma=0.1, kernel=rbf;, score=0.513 total time=   0.1s\n",
      "[CV 3/5] END ......C=0.1, gamma=0.1, kernel=rbf;, score=0.513 total time=   0.1s\n",
      "[CV 4/5] END ......C=0.1, gamma=0.1, kernel=rbf;, score=0.513 total time=   0.1s\n",
      "[CV 5/5] END ......C=0.1, gamma=0.1, kernel=rbf;, score=0.506 total time=   0.1s\n",
      "[CV 1/5] END .....C=0.1, gamma=0.01, kernel=rbf;, score=0.656 total time=   0.1s\n",
      "[CV 2/5] END .....C=0.1, gamma=0.01, kernel=rbf;, score=0.610 total time=   0.0s\n",
      "[CV 3/5] END .....C=0.1, gamma=0.01, kernel=rbf;, score=0.610 total time=   0.1s\n",
      "[CV 4/5] END .....C=0.1, gamma=0.01, kernel=rbf;, score=0.649 total time=   0.0s\n",
      "[CV 5/5] END .....C=0.1, gamma=0.01, kernel=rbf;, score=0.584 total time=   0.1s\n",
      "[CV 1/5] END ....C=0.1, gamma=0.001, kernel=rbf;, score=0.857 total time=   0.0s\n",
      "[CV 2/5] END ....C=0.1, gamma=0.001, kernel=rbf;, score=0.870 total time=   0.1s\n",
      "[CV 3/5] END ....C=0.1, gamma=0.001, kernel=rbf;, score=0.825 total time=   0.0s\n",
      "[CV 4/5] END ....C=0.1, gamma=0.001, kernel=rbf;, score=0.838 total time=   0.0s\n",
      "[CV 5/5] END ....C=0.1, gamma=0.001, kernel=rbf;, score=0.877 total time=   0.0s\n",
      "[CV 1/5] END ...C=0.1, gamma=0.0001, kernel=rbf;, score=0.643 total time=   0.0s\n",
      "[CV 2/5] END ...C=0.1, gamma=0.0001, kernel=rbf;, score=0.662 total time=   0.0s\n",
      "[CV 3/5] END ...C=0.1, gamma=0.0001, kernel=rbf;, score=0.617 total time=   0.0s\n",
      "[CV 4/5] END ...C=0.1, gamma=0.0001, kernel=rbf;, score=0.649 total time=   0.1s\n",
      "[CV 5/5] END ...C=0.1, gamma=0.0001, kernel=rbf;, score=0.682 total time=   0.0s\n",
      "[CV 1/5] END ..........C=1, gamma=1, kernel=rbf;, score=0.513 total time=   0.1s\n",
      "[CV 2/5] END ..........C=1, gamma=1, kernel=rbf;, score=0.513 total time=   0.1s\n",
      "[CV 3/5] END ..........C=1, gamma=1, kernel=rbf;, score=0.513 total time=   0.1s\n",
      "[CV 4/5] END ..........C=1, gamma=1, kernel=rbf;, score=0.513 total time=   0.1s\n",
      "[CV 5/5] END ..........C=1, gamma=1, kernel=rbf;, score=0.506 total time=   0.1s\n",
      "[CV 1/5] END ........C=1, gamma=0.1, kernel=rbf;, score=0.513 total time=   0.1s\n",
      "[CV 2/5] END ........C=1, gamma=0.1, kernel=rbf;, score=0.513 total time=   0.1s\n",
      "[CV 3/5] END ........C=1, gamma=0.1, kernel=rbf;, score=0.513 total time=   0.0s\n",
      "[CV 4/5] END ........C=1, gamma=0.1, kernel=rbf;, score=0.513 total time=   0.1s\n",
      "[CV 5/5] END ........C=1, gamma=0.1, kernel=rbf;, score=0.506 total time=   0.1s\n",
      "[CV 1/5] END .......C=1, gamma=0.01, kernel=rbf;, score=0.786 total time=   0.1s\n",
      "[CV 2/5] END .......C=1, gamma=0.01, kernel=rbf;, score=0.727 total time=   0.0s\n",
      "[CV 3/5] END .......C=1, gamma=0.01, kernel=rbf;, score=0.747 total time=   0.0s\n",
      "[CV 4/5] END .......C=1, gamma=0.01, kernel=rbf;, score=0.740 total time=   0.0s\n",
      "[CV 5/5] END .......C=1, gamma=0.01, kernel=rbf;, score=0.747 total time=   0.1s\n",
      "[CV 1/5] END ......C=1, gamma=0.001, kernel=rbf;, score=0.922 total time=   0.0s\n",
      "[CV 2/5] END ......C=1, gamma=0.001, kernel=rbf;, score=0.955 total time=   0.0s\n",
      "[CV 3/5] END ......C=1, gamma=0.001, kernel=rbf;, score=0.935 total time=   0.0s\n",
      "[CV 4/5] END ......C=1, gamma=0.001, kernel=rbf;, score=0.942 total time=   0.0s\n",
      "[CV 5/5] END ......C=1, gamma=0.001, kernel=rbf;, score=0.935 total time=   0.0s\n",
      "[CV 1/5] END .....C=1, gamma=0.0001, kernel=rbf;, score=0.870 total time=   0.0s\n",
      "[CV 2/5] END .....C=1, gamma=0.0001, kernel=rbf;, score=0.896 total time=   0.1s\n",
      "[CV 3/5] END .....C=1, gamma=0.0001, kernel=rbf;, score=0.864 total time=   0.0s\n",
      "[CV 4/5] END .....C=1, gamma=0.0001, kernel=rbf;, score=0.903 total time=   0.0s\n",
      "[CV 5/5] END .....C=1, gamma=0.0001, kernel=rbf;, score=0.935 total time=   0.0s\n",
      "[CV 1/5] END .........C=10, gamma=1, kernel=rbf;, score=0.513 total time=   0.2s\n",
      "[CV 2/5] END .........C=10, gamma=1, kernel=rbf;, score=0.513 total time=   0.1s\n",
      "[CV 3/5] END .........C=10, gamma=1, kernel=rbf;, score=0.513 total time=   0.2s\n",
      "[CV 4/5] END .........C=10, gamma=1, kernel=rbf;, score=0.513 total time=   0.1s\n",
      "[CV 5/5] END .........C=10, gamma=1, kernel=rbf;, score=0.506 total time=   0.1s\n",
      "[CV 1/5] END .......C=10, gamma=0.1, kernel=rbf;, score=0.513 total time=   0.1s\n",
      "[CV 2/5] END .......C=10, gamma=0.1, kernel=rbf;, score=0.513 total time=   0.1s\n",
      "[CV 3/5] END .......C=10, gamma=0.1, kernel=rbf;, score=0.513 total time=   0.1s\n",
      "[CV 4/5] END .......C=10, gamma=0.1, kernel=rbf;, score=0.513 total time=   0.1s\n",
      "[CV 5/5] END .......C=10, gamma=0.1, kernel=rbf;, score=0.506 total time=   0.1s\n",
      "[CV 1/5] END ......C=10, gamma=0.01, kernel=rbf;, score=0.805 total time=   0.1s\n",
      "[CV 2/5] END ......C=10, gamma=0.01, kernel=rbf;, score=0.760 total time=   0.1s\n",
      "[CV 3/5] END ......C=10, gamma=0.01, kernel=rbf;, score=0.779 total time=   0.0s\n",
      "[CV 4/5] END ......C=10, gamma=0.01, kernel=rbf;, score=0.753 total time=   0.1s\n",
      "[CV 5/5] END ......C=10, gamma=0.01, kernel=rbf;, score=0.760 total time=   0.0s\n",
      "[CV 1/5] END .....C=10, gamma=0.001, kernel=rbf;, score=0.968 total time=   0.0s\n",
      "[CV 2/5] END .....C=10, gamma=0.001, kernel=rbf;, score=0.955 total time=   0.0s\n",
      "[CV 3/5] END .....C=10, gamma=0.001, kernel=rbf;, score=0.955 total time=   0.0s\n",
      "[CV 4/5] END .....C=10, gamma=0.001, kernel=rbf;, score=0.942 total time=   0.0s\n",
      "[CV 5/5] END .....C=10, gamma=0.001, kernel=rbf;, score=0.942 total time=   0.0s\n",
      "[CV 1/5] END ....C=10, gamma=0.0001, kernel=rbf;, score=0.948 total time=   0.0s\n",
      "[CV 2/5] END ....C=10, gamma=0.0001, kernel=rbf;, score=0.961 total time=   0.0s\n",
      "[CV 3/5] END ....C=10, gamma=0.0001, kernel=rbf;, score=0.942 total time=   0.0s\n",
      "[CV 4/5] END ....C=10, gamma=0.0001, kernel=rbf;, score=0.961 total time=   0.0s\n",
      "[CV 5/5] END ....C=10, gamma=0.0001, kernel=rbf;, score=0.948 total time=   0.0s\n",
      "[CV 1/5] END ........C=100, gamma=1, kernel=rbf;, score=0.513 total time=   0.1s\n",
      "[CV 2/5] END ........C=100, gamma=1, kernel=rbf;, score=0.513 total time=   0.1s\n",
      "[CV 3/5] END ........C=100, gamma=1, kernel=rbf;, score=0.513 total time=   0.1s\n",
      "[CV 4/5] END ........C=100, gamma=1, kernel=rbf;, score=0.513 total time=   0.1s\n",
      "[CV 5/5] END ........C=100, gamma=1, kernel=rbf;, score=0.506 total time=   0.1s\n",
      "[CV 1/5] END ......C=100, gamma=0.1, kernel=rbf;, score=0.513 total time=   0.1s\n",
      "[CV 2/5] END ......C=100, gamma=0.1, kernel=rbf;, score=0.513 total time=   0.1s\n",
      "[CV 3/5] END ......C=100, gamma=0.1, kernel=rbf;, score=0.513 total time=   0.1s\n",
      "[CV 4/5] END ......C=100, gamma=0.1, kernel=rbf;, score=0.513 total time=   0.1s\n",
      "[CV 5/5] END ......C=100, gamma=0.1, kernel=rbf;, score=0.506 total time=   0.1s\n",
      "[CV 1/5] END .....C=100, gamma=0.01, kernel=rbf;, score=0.805 total time=   0.1s\n",
      "[CV 2/5] END .....C=100, gamma=0.01, kernel=rbf;, score=0.760 total time=   0.1s\n",
      "[CV 3/5] END .....C=100, gamma=0.01, kernel=rbf;, score=0.779 total time=   0.1s\n",
      "[CV 4/5] END .....C=100, gamma=0.01, kernel=rbf;, score=0.753 total time=   0.0s\n",
      "[CV 5/5] END .....C=100, gamma=0.01, kernel=rbf;, score=0.760 total time=   0.0s\n",
      "[CV 1/5] END ....C=100, gamma=0.001, kernel=rbf;, score=0.942 total time=   0.0s\n",
      "[CV 2/5] END ....C=100, gamma=0.001, kernel=rbf;, score=0.948 total time=   0.0s\n",
      "[CV 3/5] END ....C=100, gamma=0.001, kernel=rbf;, score=0.955 total time=   0.0s\n",
      "[CV 4/5] END ....C=100, gamma=0.001, kernel=rbf;, score=0.942 total time=   0.0s\n",
      "[CV 5/5] END ....C=100, gamma=0.001, kernel=rbf;, score=0.942 total time=   0.0s\n",
      "[CV 1/5] END ...C=100, gamma=0.0001, kernel=rbf;, score=0.981 total time=   0.0s\n",
      "[CV 2/5] END ...C=100, gamma=0.0001, kernel=rbf;, score=0.968 total time=   0.0s\n",
      "[CV 3/5] END ...C=100, gamma=0.0001, kernel=rbf;, score=0.948 total time=   0.0s\n",
      "[CV 4/5] END ...C=100, gamma=0.0001, kernel=rbf;, score=0.968 total time=   0.0s\n",
      "[CV 5/5] END ...C=100, gamma=0.0001, kernel=rbf;, score=0.948 total time=   0.0s\n",
      "[CV 1/5] END .......C=1000, gamma=1, kernel=rbf;, score=0.513 total time=   0.1s\n",
      "[CV 2/5] END .......C=1000, gamma=1, kernel=rbf;, score=0.513 total time=   0.1s\n",
      "[CV 3/5] END .......C=1000, gamma=1, kernel=rbf;, score=0.513 total time=   0.1s\n",
      "[CV 4/5] END .......C=1000, gamma=1, kernel=rbf;, score=0.513 total time=   0.1s\n",
      "[CV 5/5] END .......C=1000, gamma=1, kernel=rbf;, score=0.506 total time=   0.1s\n",
      "[CV 1/5] END .....C=1000, gamma=0.1, kernel=rbf;, score=0.513 total time=   0.0s\n",
      "[CV 2/5] END .....C=1000, gamma=0.1, kernel=rbf;, score=0.513 total time=   0.1s\n",
      "[CV 3/5] END .....C=1000, gamma=0.1, kernel=rbf;, score=0.513 total time=   0.1s\n",
      "[CV 4/5] END .....C=1000, gamma=0.1, kernel=rbf;, score=0.513 total time=   0.1s\n",
      "[CV 5/5] END .....C=1000, gamma=0.1, kernel=rbf;, score=0.506 total time=   0.1s\n",
      "[CV 1/5] END ....C=1000, gamma=0.01, kernel=rbf;, score=0.805 total time=   0.1s\n",
      "[CV 2/5] END ....C=1000, gamma=0.01, kernel=rbf;, score=0.760 total time=   0.0s\n",
      "[CV 3/5] END ....C=1000, gamma=0.01, kernel=rbf;, score=0.779 total time=   0.1s\n",
      "[CV 4/5] END ....C=1000, gamma=0.01, kernel=rbf;, score=0.753 total time=   0.0s\n",
      "[CV 5/5] END ....C=1000, gamma=0.01, kernel=rbf;, score=0.760 total time=   0.1s\n",
      "[CV 1/5] END ...C=1000, gamma=0.001, kernel=rbf;, score=0.942 total time=   0.0s\n",
      "[CV 2/5] END ...C=1000, gamma=0.001, kernel=rbf;, score=0.948 total time=   0.0s\n",
      "[CV 3/5] END ...C=1000, gamma=0.001, kernel=rbf;, score=0.955 total time=   0.0s\n",
      "[CV 4/5] END ...C=1000, gamma=0.001, kernel=rbf;, score=0.942 total time=   0.0s\n",
      "[CV 5/5] END ...C=1000, gamma=0.001, kernel=rbf;, score=0.942 total time=   0.0s\n",
      "[CV 1/5] END ..C=1000, gamma=0.0001, kernel=rbf;, score=0.974 total time=   0.0s\n",
      "[CV 2/5] END ..C=1000, gamma=0.0001, kernel=rbf;, score=0.968 total time=   0.0s\n",
      "[CV 3/5] END ..C=1000, gamma=0.0001, kernel=rbf;, score=0.955 total time=   0.0s\n",
      "[CV 4/5] END ..C=1000, gamma=0.0001, kernel=rbf;, score=0.955 total time=   0.0s\n",
      "[CV 5/5] END ..C=1000, gamma=0.0001, kernel=rbf;, score=0.948 total time=   0.0s\n"
     ]
    }
   ],
   "source": [
    "# implelemt grid search \n",
    "from sklearn.model_selection import GridSearchCV\n",
    "param_grid = {'C': [0.1, 1, 10, 100, 1000], 'gamma': [1, 0.1, 0.01, 0.001, 0.0001], 'kernel': ['rbf']}\n",
    "grid = GridSearchCV(SVC(), param_grid, refit=True, verbose=3)\n",
    "grid.fit(X_train, y_train)\n",
    "\n",
    "# grid.best_params_\n",
    "\n",
    "# grid.best_estimator_\n",
    "\n",
    "grid_predictions = grid.predict(X_test)\n"
   ]
  },
  {
   "cell_type": "code",
   "execution_count": 21,
   "metadata": {},
   "outputs": [
    {
     "data": {
      "text/plain": [
       "array([2.74952139e-02, 2.14538975e-02, 1.76946547e-02, 1.68253376e-02,\n",
       "       1.66768980e-02, 1.52263541e-02, 1.19724498e-02, 1.07583399e-02,\n",
       "       1.05724049e-02, 1.02124278e-02, 9.80350234e-03, 9.66536812e-03,\n",
       "       9.52379961e-03, 8.98798833e-03, 8.36327946e-03, 8.25744453e-03,\n",
       "       8.21621106e-03, 7.96514406e-03, 7.84648574e-03, 7.81528840e-03,\n",
       "       7.62129607e-03, 7.57475704e-03, 7.39639211e-03, 7.36358535e-03,\n",
       "       7.05807410e-03, 6.75607861e-03, 6.71918504e-03, 6.53514175e-03,\n",
       "       6.48195033e-03, 6.30713753e-03, 6.21848742e-03, 6.16273441e-03,\n",
       "       6.03039380e-03, 5.96690985e-03, 5.81270539e-03, 5.70750985e-03,\n",
       "       5.65884651e-03, 5.58079207e-03, 5.56082053e-03, 5.49536134e-03,\n",
       "       5.43294493e-03, 5.32890749e-03, 5.25105525e-03, 5.17904790e-03,\n",
       "       5.04372548e-03, 4.99075132e-03, 4.92817381e-03, 4.84921229e-03,\n",
       "       4.81075141e-03, 4.78264529e-03, 4.66137902e-03, 4.64901589e-03,\n",
       "       4.56426509e-03, 4.52504301e-03, 4.48664751e-03, 4.36899702e-03,\n",
       "       4.33077436e-03, 4.19494265e-03, 4.17350286e-03, 4.13890212e-03,\n",
       "       4.09604942e-03, 4.06787824e-03, 4.02059308e-03, 3.95152055e-03,\n",
       "       3.91737581e-03, 3.90607451e-03, 3.83383479e-03, 3.81534178e-03,\n",
       "       3.77043211e-03, 3.76003817e-03, 3.72685458e-03, 3.68512971e-03,\n",
       "       3.64421279e-03, 3.58221247e-03, 3.55966135e-03, 3.53468685e-03,\n",
       "       3.48342617e-03, 3.44663568e-03, 3.40620594e-03, 3.39968911e-03,\n",
       "       3.37572923e-03, 3.36806449e-03, 3.31044817e-03, 3.26729273e-03,\n",
       "       3.25766552e-03, 3.22714916e-03, 3.18599153e-03, 3.16455049e-03,\n",
       "       3.15090372e-03, 3.09414380e-03, 3.05421410e-03, 3.03789656e-03,\n",
       "       2.95434988e-03, 2.92254141e-03, 2.90541788e-03, 2.89316699e-03,\n",
       "       2.88838710e-03, 2.84802205e-03, 2.83424612e-03, 2.79098020e-03,\n",
       "       2.76977765e-03, 2.72757408e-03, 2.69324115e-03, 2.68787868e-03,\n",
       "       2.66812934e-03, 2.66406681e-03, 2.62069341e-03, 2.59925941e-03,\n",
       "       2.59670064e-03, 2.57329153e-03, 2.55062308e-03, 2.53972962e-03,\n",
       "       2.52228473e-03, 2.50721495e-03, 2.46977632e-03, 2.46216670e-03,\n",
       "       2.44488003e-03, 2.40629315e-03, 2.39490283e-03, 2.37650868e-03,\n",
       "       2.37321353e-03, 2.33996795e-03, 2.33020892e-03, 2.29989404e-03,\n",
       "       2.29029423e-03, 2.27682953e-03, 2.27386771e-03, 2.26241220e-03,\n",
       "       2.24403252e-03, 2.21830657e-03, 2.19404834e-03, 2.18000947e-03,\n",
       "       2.16827685e-03, 2.14992293e-03, 2.13669199e-03, 2.11712233e-03,\n",
       "       2.10767065e-03, 2.08508454e-03, 2.07522941e-03, 2.06337732e-03,\n",
       "       2.04546045e-03, 2.01829897e-03, 2.00096382e-03, 1.99106268e-03,\n",
       "       1.97867148e-03, 1.96742370e-03, 1.94595449e-03, 1.93913106e-03,\n",
       "       1.91936127e-03, 1.90696330e-03, 1.89933965e-03, 1.88419703e-03,\n",
       "       1.86517596e-03, 1.86256548e-03, 1.83894799e-03, 1.83643415e-03,\n",
       "       1.83099158e-03, 1.81749367e-03, 1.80676884e-03, 1.79543175e-03,\n",
       "       1.78295329e-03, 1.77355819e-03, 1.76422572e-03, 1.75762208e-03,\n",
       "       1.74547054e-03, 1.74298482e-03, 1.72196591e-03, 1.71329751e-03,\n",
       "       1.70043285e-03, 1.69413179e-03, 1.68427497e-03, 1.67832840e-03,\n",
       "       1.67225626e-03, 1.66633717e-03, 1.63798544e-03, 1.62659186e-03,\n",
       "       1.61965021e-03, 1.61509886e-03, 1.60504954e-03, 1.59768081e-03,\n",
       "       1.59558096e-03, 1.57113666e-03, 1.56436574e-03, 1.55744504e-03,\n",
       "       1.54758364e-03, 1.53122996e-03, 1.52464284e-03, 1.51605719e-03,\n",
       "       1.51228134e-03, 1.50415583e-03, 1.49952607e-03, 1.49205753e-03,\n",
       "       1.48250465e-03, 1.46689601e-03, 1.46238359e-03, 1.44853435e-03,\n",
       "       1.44474384e-03, 1.43580446e-03, 1.42963960e-03, 1.42527723e-03,\n",
       "       1.41834127e-03, 1.41543434e-03, 1.41140122e-03, 1.40938128e-03,\n",
       "       1.40006136e-03, 1.39527101e-03, 1.38381793e-03, 1.37523633e-03,\n",
       "       1.36923976e-03, 1.36131443e-03, 1.34635972e-03, 1.34298966e-03,\n",
       "       1.34076238e-03, 1.33614860e-03, 1.32820370e-03, 1.31949760e-03,\n",
       "       1.31206169e-03, 1.30978301e-03, 1.29786831e-03, 1.29397073e-03,\n",
       "       1.28845503e-03, 1.27953258e-03, 1.26993810e-03, 1.25396592e-03,\n",
       "       1.25098802e-03, 1.24000705e-03, 1.23490021e-03, 1.23221703e-03,\n",
       "       1.22603325e-03, 1.22229775e-03, 1.20264755e-03, 1.20050172e-03,\n",
       "       1.19605569e-03, 1.18734207e-03, 1.18206179e-03, 1.17454270e-03,\n",
       "       1.17337192e-03, 1.15743263e-03, 1.14878598e-03, 1.14750127e-03,\n",
       "       1.13464752e-03, 1.12760965e-03, 1.11951989e-03, 1.11669811e-03,\n",
       "       1.11226799e-03, 1.10822816e-03, 1.10359766e-03, 1.09784874e-03,\n",
       "       1.08922343e-03, 1.08310600e-03, 1.07349712e-03, 1.07117647e-03,\n",
       "       1.06781518e-03, 1.06131853e-03, 1.05717700e-03, 1.05457372e-03,\n",
       "       1.04599566e-03, 1.04053122e-03, 1.03684009e-03, 1.02717814e-03,\n",
       "       1.02328615e-03, 1.01591757e-03, 1.01135505e-03, 9.99159557e-04,\n",
       "       9.96949975e-04, 9.89704974e-04, 9.84150646e-04, 9.75505404e-04,\n",
       "       9.73834991e-04, 9.70849526e-04, 9.64756434e-04, 9.59249051e-04,\n",
       "       9.54101515e-04, 9.49368353e-04, 9.46877677e-04, 9.39236516e-04,\n",
       "       9.32157283e-04, 9.28724332e-04, 9.23692199e-04, 9.11300597e-04,\n",
       "       9.07586408e-04, 8.99634545e-04, 8.92083611e-04, 8.90666890e-04,\n",
       "       8.84818932e-04, 8.79125601e-04, 8.72261121e-04, 8.69979254e-04,\n",
       "       8.64664182e-04, 8.60508576e-04, 8.57678748e-04, 8.51845867e-04,\n",
       "       8.45739642e-04, 8.40889915e-04, 8.39468732e-04, 8.37067113e-04,\n",
       "       8.28206276e-04, 8.21172660e-04, 8.17802725e-04, 8.15274636e-04,\n",
       "       8.06966651e-04, 8.01394549e-04, 7.95785568e-04, 7.91803380e-04,\n",
       "       7.90784652e-04, 7.83870220e-04, 7.79109687e-04, 7.74957155e-04,\n",
       "       7.71151658e-04, 7.64097516e-04, 7.58990035e-04, 7.52849099e-04,\n",
       "       7.50063036e-04, 7.42228179e-04, 7.37221402e-04, 7.36199530e-04,\n",
       "       7.30153876e-04, 7.26659344e-04, 7.21138660e-04, 7.15128002e-04,\n",
       "       7.09470237e-04, 7.08147955e-04, 7.05702207e-04, 7.01298765e-04,\n",
       "       6.95210389e-04, 6.92053436e-04, 6.86279649e-04, 6.82810182e-04,\n",
       "       6.76209924e-04, 6.64483498e-04, 6.63013593e-04, 6.61765924e-04,\n",
       "       6.58050762e-04, 6.55163624e-04, 6.49879746e-04, 6.42902596e-04,\n",
       "       6.34945850e-04, 6.32757430e-04, 6.29768438e-04, 6.16526460e-04,\n",
       "       6.14179052e-04, 6.08890864e-04, 6.06256176e-04, 6.00097910e-04,\n",
       "       5.98126988e-04, 5.92063793e-04, 5.89550068e-04, 5.83446862e-04,\n",
       "       5.80554914e-04, 5.70890161e-04, 5.68204460e-04, 5.64370437e-04,\n",
       "       5.59199922e-04, 5.52334904e-04, 5.49319861e-04, 5.46618579e-04,\n",
       "       5.40153405e-04, 5.34691728e-04, 5.30774257e-04, 5.27626130e-04,\n",
       "       5.23977585e-04, 5.18056025e-04, 5.11567574e-04, 5.08350537e-04,\n",
       "       5.00731728e-04, 4.97811203e-04, 4.94926531e-04, 4.91261093e-04,\n",
       "       4.88315311e-04, 4.84403891e-04, 4.81078284e-04, 4.73181214e-04,\n",
       "       4.70836903e-04, 4.68700348e-04, 4.60522702e-04, 4.58101299e-04,\n",
       "       4.53566287e-04, 4.53124943e-04, 4.48076233e-04, 4.43011704e-04,\n",
       "       4.40002923e-04, 4.36298384e-04, 4.32253106e-04, 4.29715738e-04,\n",
       "       4.25143831e-04, 4.19658338e-04, 4.16961040e-04, 4.14209577e-04,\n",
       "       4.12522127e-04, 4.09576042e-04, 4.06073887e-04, 3.99913926e-04,\n",
       "       3.98008775e-04, 3.96646232e-04, 3.87732360e-04, 3.87070330e-04,\n",
       "       3.82058637e-04, 3.79786916e-04, 3.78995669e-04, 3.74690808e-04,\n",
       "       3.72620157e-04, 3.68423542e-04, 3.61386041e-04, 3.57722082e-04,\n",
       "       3.56062958e-04, 3.54000620e-04, 3.49523805e-04, 3.46931881e-04,\n",
       "       3.45682936e-04, 3.42805547e-04, 3.39877924e-04, 3.37612021e-04,\n",
       "       3.33281580e-04, 3.30843344e-04, 3.29638334e-04, 3.25493653e-04,\n",
       "       3.24926865e-04, 3.22250741e-04, 3.21414065e-04, 3.17981986e-04,\n",
       "       3.16709622e-04, 3.12521679e-04, 3.06928241e-04, 3.04828850e-04,\n",
       "       3.01400345e-04, 2.99643205e-04, 2.98377054e-04, 2.97018479e-04,\n",
       "       2.92018324e-04, 2.89322816e-04, 2.85029662e-04, 2.81998112e-04,\n",
       "       2.80364773e-04, 2.76366881e-04, 2.72629401e-04, 2.69865872e-04,\n",
       "       2.67549992e-04, 2.64362105e-04, 2.63262350e-04, 2.58241861e-04,\n",
       "       2.56308904e-04, 2.53560304e-04, 2.53538515e-04, 2.50941843e-04,\n",
       "       2.49139440e-04, 2.45446686e-04, 2.44100911e-04, 2.43126282e-04,\n",
       "       2.41076128e-04, 2.39071044e-04, 2.32641504e-04, 2.31114532e-04,\n",
       "       2.29832426e-04, 2.28400113e-04, 2.22277100e-04, 2.19775955e-04,\n",
       "       2.18105491e-04, 2.15410672e-04, 2.13292429e-04, 2.11420339e-04,\n",
       "       2.11029473e-04, 2.08239366e-04, 2.07629022e-04, 2.04860469e-04,\n",
       "       2.02125459e-04, 1.99886006e-04, 1.97504464e-04, 1.96457115e-04,\n",
       "       1.93211830e-04, 1.91749778e-04, 1.89482351e-04, 1.87363389e-04,\n",
       "       1.84391706e-04, 1.83657777e-04, 1.81914345e-04, 1.79919624e-04,\n",
       "       1.77103828e-04, 1.75076851e-04, 1.73477256e-04, 1.72175874e-04,\n",
       "       1.70115489e-04, 1.67525184e-04, 1.66478977e-04, 1.64436230e-04,\n",
       "       1.62815942e-04, 1.60774631e-04, 1.60215898e-04, 1.57094877e-04,\n",
       "       1.55119666e-04, 1.54614287e-04, 1.51874473e-04, 1.49032066e-04,\n",
       "       1.48028712e-04, 1.45563013e-04, 1.43629487e-04, 1.42310635e-04,\n",
       "       1.42064717e-04, 1.39010229e-04, 1.37414345e-04, 1.36494549e-04,\n",
       "       1.35600697e-04, 1.33950567e-04, 1.31130125e-04, 1.29547168e-04,\n",
       "       1.28338505e-04, 1.26267288e-04, 1.23723821e-04, 1.23034868e-04,\n",
       "       1.20974822e-04, 1.19050143e-04, 1.17934756e-04, 1.16449133e-04,\n",
       "       1.15863234e-04, 1.12256661e-04, 1.11185185e-04, 1.09261015e-04,\n",
       "       1.07022083e-04, 1.05570141e-04, 1.03801760e-04, 1.03352828e-04,\n",
       "       1.01796415e-04, 1.00726600e-04, 9.97414431e-05, 9.89124945e-05,\n",
       "       9.59198247e-05, 9.46754838e-05, 9.38808536e-05, 9.12319000e-05,\n",
       "       8.92825031e-05, 8.81364028e-05, 8.78361986e-05, 8.66909578e-05,\n",
       "       8.46624060e-05, 8.22590273e-05, 7.96638304e-05, 7.87949001e-05,\n",
       "       7.71844337e-05, 7.64923296e-05, 7.39170296e-05, 7.34368335e-05,\n",
       "       7.15755848e-05, 7.09018303e-05, 6.97910187e-05, 6.86495908e-05,\n",
       "       6.71626674e-05, 6.58712161e-05, 6.52813356e-05, 6.40200522e-05,\n",
       "       6.32178516e-05, 6.24706933e-05, 5.90745611e-05, 5.80782205e-05,\n",
       "       5.72299537e-05, 5.66376609e-05, 5.55842767e-05, 5.39390746e-05,\n",
       "       5.23645845e-05, 5.19730639e-05, 5.12375162e-05, 4.96887949e-05,\n",
       "       4.83406720e-05, 4.75473025e-05, 4.63025646e-05, 4.59727267e-05,\n",
       "       4.48660373e-05, 4.35062958e-05, 4.28123475e-05, 4.13969657e-05,\n",
       "       4.04716871e-05, 3.89045632e-05, 3.85145633e-05, 3.74992156e-05,\n",
       "       3.70375625e-05, 3.61324372e-05, 3.52737984e-05, 3.42904825e-05,\n",
       "       3.36492035e-05, 3.34519798e-05, 3.15948450e-05, 3.13239820e-05,\n",
       "       2.98753609e-05, 2.95110487e-05, 2.92911514e-05, 2.74150405e-05,\n",
       "       2.73237809e-05, 2.56399277e-05, 2.51448700e-05, 2.46655925e-05,\n",
       "       2.41275712e-05, 2.33649701e-05, 2.22307516e-05, 2.18248788e-05,\n",
       "       2.10772513e-05, 2.06015539e-05, 1.97035254e-05, 1.87815351e-05,\n",
       "       1.83731007e-05, 1.80902318e-05, 1.74207980e-05, 1.65931095e-05,\n",
       "       1.59999919e-05, 1.54413365e-05, 1.47602959e-05, 1.46792147e-05,\n",
       "       1.38768312e-05, 1.34884450e-05, 1.32128125e-05, 1.23772963e-05,\n",
       "       1.16437848e-05, 1.14157561e-05, 1.13328884e-05, 1.08424883e-05,\n",
       "       1.03775134e-05, 9.93397867e-06, 9.27573166e-06, 8.67353309e-06,\n",
       "       8.11586931e-06, 7.82303878e-06, 7.05286910e-06, 6.67739365e-06,\n",
       "       6.54089642e-06, 6.28226756e-06, 5.94131935e-06, 5.79829566e-06,\n",
       "       5.43070824e-06, 4.83131651e-06, 4.46604734e-06, 4.34875503e-06,\n",
       "       3.64916139e-06, 3.61308214e-06, 3.18598391e-06, 2.92352268e-06,\n",
       "       2.73771842e-06, 2.28865986e-06, 2.12104866e-06, 1.81157079e-06,\n",
       "       1.52478909e-06, 1.45309757e-06, 1.21879879e-06, 1.03598544e-06,\n",
       "       8.35875505e-07, 7.60825876e-07, 6.29069844e-07, 4.99591957e-07,\n",
       "       3.84797480e-07, 2.77127142e-07, 1.16381598e-07, 5.42247484e-33,\n",
       "       2.11560585e-33, 9.31322278e-34, 7.27664701e-34, 6.74514129e-34,\n",
       "       6.49209465e-34, 5.96146819e-34, 4.42443325e-34, 3.53139307e-34,\n",
       "       3.25002977e-34, 3.19612568e-34, 2.74512789e-34, 2.74512789e-34,\n",
       "       2.74512789e-34, 2.74512789e-34, 2.74512789e-34, 2.74512789e-34,\n",
       "       2.74512789e-34, 2.74512789e-34, 2.74512789e-34, 2.74512789e-34,\n",
       "       2.74512789e-34, 2.74512789e-34, 2.74512789e-34, 2.74512789e-34,\n",
       "       2.74512789e-34, 2.74512789e-34, 2.74512789e-34, 2.74512789e-34,\n",
       "       2.74512789e-34, 2.74512789e-34, 2.74512789e-34, 2.74512789e-34,\n",
       "       2.74512789e-34, 2.74512789e-34, 2.74512789e-34, 2.74512789e-34,\n",
       "       2.74512789e-34, 2.74512789e-34, 2.74512789e-34, 2.74512789e-34,\n",
       "       2.74512789e-34, 2.74512789e-34, 2.74512789e-34, 2.74512789e-34,\n",
       "       2.74512789e-34, 2.74512789e-34, 2.74512789e-34, 2.74512789e-34,\n",
       "       2.74512789e-34, 2.74512789e-34, 2.74512789e-34, 2.74512789e-34,\n",
       "       2.74512789e-34, 2.74512789e-34, 2.74512789e-34, 2.74512789e-34,\n",
       "       2.74512789e-34, 2.74512789e-34, 2.74512789e-34, 2.74512789e-34,\n",
       "       2.74512789e-34, 2.74512789e-34, 2.74512789e-34, 2.74512789e-34,\n",
       "       2.74512789e-34, 2.74512789e-34, 2.74512789e-34, 2.74512789e-34,\n",
       "       2.74512789e-34, 2.74512789e-34, 2.74512789e-34, 2.74512789e-34,\n",
       "       2.74512789e-34, 2.74512789e-34, 2.74512789e-34, 2.74512789e-34,\n",
       "       2.74512789e-34, 2.74512789e-34, 2.74512789e-34, 2.74512789e-34,\n",
       "       2.74512789e-34, 2.74512789e-34, 2.74512789e-34, 2.74512789e-34,\n",
       "       2.74512789e-34, 2.74512789e-34, 2.74512789e-34, 2.74512789e-34,\n",
       "       2.74512789e-34, 2.74512789e-34, 2.74512789e-34, 2.74512789e-34,\n",
       "       2.74512789e-34, 2.74512789e-34, 2.74512789e-34, 2.74512789e-34,\n",
       "       2.74512789e-34, 2.74512789e-34, 2.74512789e-34, 2.74512789e-34,\n",
       "       2.74512789e-34, 2.74512789e-34, 2.74512789e-34, 2.74512789e-34,\n",
       "       2.74512789e-34, 2.74512789e-34, 2.74512789e-34, 2.74512789e-34,\n",
       "       2.74512789e-34, 2.74512789e-34, 2.74512789e-34, 2.74512789e-34,\n",
       "       2.74512789e-34, 2.74512789e-34, 2.74512789e-34, 2.74512789e-34,\n",
       "       2.74512789e-34, 2.74512789e-34, 2.74512789e-34, 1.32591919e-34,\n",
       "       1.03560433e-34, 5.02030504e-35])"
      ]
     },
     "execution_count": 21,
     "metadata": {},
     "output_type": "execute_result"
    }
   ],
   "source": [
    "pca.explained_variance_ratio_"
   ]
  },
  {
   "cell_type": "code",
   "execution_count": 22,
   "metadata": {},
   "outputs": [
    {
     "data": {
      "text/plain": [
       "[<matplotlib.lines.Line2D at 0x10b240e31c0>]"
      ]
     },
     "execution_count": 22,
     "metadata": {},
     "output_type": "execute_result"
    },
    {
     "data": {
      "image/png": "[encoded data removed]",
      "text/plain": [
       "<Figure size 640x480 with 1 Axes>"
      ]
     },
     "metadata": {},
     "output_type": "display_data"
    }
   ],
   "source": [
    "plt.plot(np.cumsum(pca.explained_variance_ratio_))"
   ]
  },
  {
   "cell_type": "code",
   "execution_count": 23,
   "metadata": {},
   "outputs": [],
   "source": [
    "X_train, X_test, y_train, y_test = X_trainC, X_testC, y_trainC, y_testC"
   ]
  },
  {
   "attachments": {},
   "cell_type": "markdown",
   "metadata": {},
   "source": [
    "### Effect of number of components"
   ]
  },
  {
   "cell_type": "code",
   "execution_count": 24,
   "metadata": {},
   "outputs": [],
   "source": [
    "# plotting for number of components vs accuracy\n",
    "accuracies = []\n",
    "\n",
    "for num_components in range(1, 1000):\n",
    "    X_train, X_test, y_train, y_test = X_trainC, X_testC, y_trainC, y_testC\n",
    "    pca = PCA(n_components=num_components)\n",
    "    X_train = pca.fit_transform(X_train)\n",
    "    X_test = pca.transform(X_test)\n",
    "    svm = SVC(kernel='linear', C=1.0, random_state=0)\n",
    "    svm.fit(X_train, y_train)\n",
    "    y_pred = svm.predict(X_test)\n",
    "    accuracies.append(accuracy_score(y_test, y_pred))\n"
   ]
  },
  {
   "cell_type": "code",
   "execution_count": null,
   "metadata": {},
   "outputs": [
    {
     "data": {
      "text/plain": [
       "[<matplotlib.lines.Line2D at 0x7fd4f343e3e0>]"
      ]
     },
     "execution_count": 107,
     "metadata": {},
     "output_type": "execute_result"
    },
    {
     "data": {
      "image/png": "[encoded data removed]",
      "text/plain": [
       "<Figure size 640x480 with 1 Axes>"
      ]
     },
     "metadata": {},
     "output_type": "display_data"
    }
   ],
   "source": [
    "# change color to purple\n",
    "plt.plot(range(1, 25), accuracies, color='purple')"
   ]
  },
  {
   "cell_type": "code",
   "execution_count": null,
   "metadata": {},
   "outputs": [
    {
     "data": {
      "text/plain": [
       "array([1.48619613, 0.61427473, 0.40576596, 0.3581045 , 0.32281878,\n",
       "       0.26487931, 0.23108398, 0.21506946, 0.19976505, 0.17570005,\n",
       "       0.17195043, 0.1642068 , 0.1548568 , 0.15036435, 0.14968298,\n",
       "       0.13828645, 0.13482655, 0.13390612, 0.12745692, 0.12669842,\n",
       "       0.12207153, 0.12055291, 0.1174182 , 0.11540231])"
      ]
     },
     "execution_count": 106,
     "metadata": {},
     "output_type": "execute_result"
    }
   ],
   "source": [
    "pca.explained_variance_"
   ]
  },
  {
   "cell_type": "code",
   "execution_count": null,
   "metadata": {},
   "outputs": [],
   "source": []
  }
 ],
 "metadata": {
  "kernelspec": {
   "display_name": "Python 3",
   "language": "python",
   "name": "python3"
  },
  "language_info": {
   "codemirror_mode": {
    "name": "ipython",
    "version": 3
   },
   "file_extension": ".py",
   "mimetype": "text/x-python",
   "name": "python",
   "nbconvert_exporter": "python",
   "pygments_lexer": "ipython3",
   "version": "3.10.11"
  },
  "orig_nbformat": 4
 },
 "nbformat": 4,
 "nbformat_minor": 2
}
